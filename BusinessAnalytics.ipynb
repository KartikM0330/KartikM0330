{
  "nbformat": 4,
  "nbformat_minor": 0,
  "metadata": {
    "colab": {
      "name": "BusinessAnalytics.ipynb",
      "provenance": [],
      "collapsed_sections": [],
      "include_colab_link": true
    },
    "kernelspec": {
      "display_name": "Python 3",
      "name": "python3"
    },
    "language_info": {
      "name": "python"
    }
  },
  "cells": [
    {
      "cell_type": "markdown",
      "metadata": {
        "id": "view-in-github",
        "colab_type": "text"
      },
      "source": [
        "<a href=\"https://colab.research.google.com/github/KartikM0330/KartikM0330/blob/main/BusinessAnalytics.ipynb\" target=\"_parent\"><img src=\"https://colab.research.google.com/assets/colab-badge.svg\" alt=\"Open In Colab\"/></a>"
      ]
    },
    {
      "cell_type": "markdown",
      "metadata": {
        "id": "jNpDWW_endvy"
      },
      "source": [
        "Generating Data"
      ]
    },
    {
      "cell_type": "code",
      "metadata": {
        "colab": {
          "base_uri": "https://localhost:8080/"
        },
        "id": "8lU7DtFYx2CX",
        "outputId": "c69f3c8b-d9f2-4132-ddf4-c6ef3a9ff91b"
      },
      "source": [
        "pip install statsmodels --upgrade"
      ],
      "execution_count": null,
      "outputs": [
        {
          "output_type": "stream",
          "name": "stdout",
          "text": [
            "Requirement already satisfied: statsmodels in /usr/local/lib/python3.7/dist-packages (0.13.0)\n",
            "Requirement already satisfied: patsy>=0.5.2 in /usr/local/lib/python3.7/dist-packages (from statsmodels) (0.5.2)\n",
            "Requirement already satisfied: numpy>=1.17 in /usr/local/lib/python3.7/dist-packages (from statsmodels) (1.19.5)\n",
            "Requirement already satisfied: scipy>=1.3 in /usr/local/lib/python3.7/dist-packages (from statsmodels) (1.4.1)\n",
            "Requirement already satisfied: pandas>=0.25 in /usr/local/lib/python3.7/dist-packages (from statsmodels) (1.1.5)\n",
            "Requirement already satisfied: pytz>=2017.2 in /usr/local/lib/python3.7/dist-packages (from pandas>=0.25->statsmodels) (2018.9)\n",
            "Requirement already satisfied: python-dateutil>=2.7.3 in /usr/local/lib/python3.7/dist-packages (from pandas>=0.25->statsmodels) (2.8.2)\n",
            "Requirement already satisfied: six in /usr/local/lib/python3.7/dist-packages (from patsy>=0.5.2->statsmodels) (1.15.0)\n"
          ]
        }
      ]
    },
    {
      "cell_type": "code",
      "metadata": {
        "colab": {
          "base_uri": "https://localhost:8080/"
        },
        "id": "c_wqfdQq7sB8",
        "outputId": "98279a2a-c082-4465-e651-b5f4c1f7c4dc"
      },
      "source": [
        "pip install pmdarima"
      ],
      "execution_count": null,
      "outputs": [
        {
          "output_type": "stream",
          "name": "stdout",
          "text": [
            "Requirement already satisfied: pmdarima in /usr/local/lib/python3.7/dist-packages (1.8.3)\n",
            "Requirement already satisfied: setuptools!=50.0.0,>=38.6.0 in /usr/local/lib/python3.7/dist-packages (from pmdarima) (57.4.0)\n",
            "Requirement already satisfied: pandas>=0.19 in /usr/local/lib/python3.7/dist-packages (from pmdarima) (1.1.5)\n",
            "Requirement already satisfied: scikit-learn>=0.22 in /usr/local/lib/python3.7/dist-packages (from pmdarima) (0.22.2.post1)\n",
            "Requirement already satisfied: Cython!=0.29.18,>=0.29 in /usr/local/lib/python3.7/dist-packages (from pmdarima) (0.29.24)\n",
            "Requirement already satisfied: statsmodels!=0.12.0,>=0.11 in /usr/local/lib/python3.7/dist-packages (from pmdarima) (0.13.0)\n",
            "Requirement already satisfied: joblib>=0.11 in /usr/local/lib/python3.7/dist-packages (from pmdarima) (1.0.1)\n",
            "Requirement already satisfied: scipy>=1.3.2 in /usr/local/lib/python3.7/dist-packages (from pmdarima) (1.4.1)\n",
            "Requirement already satisfied: urllib3 in /usr/local/lib/python3.7/dist-packages (from pmdarima) (1.24.3)\n",
            "Requirement already satisfied: numpy>=1.19.3 in /usr/local/lib/python3.7/dist-packages (from pmdarima) (1.19.5)\n",
            "Requirement already satisfied: python-dateutil>=2.7.3 in /usr/local/lib/python3.7/dist-packages (from pandas>=0.19->pmdarima) (2.8.2)\n",
            "Requirement already satisfied: pytz>=2017.2 in /usr/local/lib/python3.7/dist-packages (from pandas>=0.19->pmdarima) (2018.9)\n",
            "Requirement already satisfied: six>=1.5 in /usr/local/lib/python3.7/dist-packages (from python-dateutil>=2.7.3->pandas>=0.19->pmdarima) (1.15.0)\n",
            "Requirement already satisfied: patsy>=0.5.2 in /usr/local/lib/python3.7/dist-packages (from statsmodels!=0.12.0,>=0.11->pmdarima) (0.5.2)\n"
          ]
        }
      ]
    },
    {
      "cell_type": "code",
      "metadata": {
        "id": "OgvDJMsWoxZP"
      },
      "source": [
        "import numpy as np\n",
        "import pandas as pd\n",
        "from matplotlib import pyplot\n",
        "import math"
      ],
      "execution_count": null,
      "outputs": []
    },
    {
      "cell_type": "code",
      "metadata": {
        "id": "Cb1XnoaTpuAT"
      },
      "source": [
        "def generate_data(desired_mean,desired_std_dev):\n",
        "  num_samples = 156\n",
        "  samples = np.random.normal(loc=desired_mean, scale=desired_std_dev, size=num_samples)\n",
        "\n",
        "  actual_mean = np.mean(samples)\n",
        "  actual_std = np.std(samples)\n",
        "  zero_mean_samples = samples - (actual_mean)\n",
        "\n",
        "  zero_mean_mean = np.mean(zero_mean_samples)\n",
        "  zero_mean_std = np.std(zero_mean_samples)\n",
        "\n",
        "  scaled_samples = zero_mean_samples * (desired_std_dev/zero_mean_std)\n",
        "  scaled_mean = np.mean(scaled_samples)\n",
        "  scaled_std = np.std(scaled_samples)\n",
        "\n",
        "  final_samples = scaled_samples + desired_mean\n",
        "  final_mean = np.mean(final_samples)\n",
        "  final_std = np.std(final_samples)\n",
        "\n",
        "  return final_samples"
      ],
      "execution_count": null,
      "outputs": []
    },
    {
      "cell_type": "code",
      "metadata": {
        "id": "jpQtmQWHpRyQ"
      },
      "source": [
        "sales = generate_data(42.89, 14.61)\n",
        "visits = generate_data(20.09,12.64)\n",
        "households = generate_data(19.72,12.33)\n",
        "price = generate_data(3.2, 1.5)\n",
        "discount = generate_data(0.22,0.416)\n",
        "avg_temp = generate_data(490.8,89.39)\n",
        "max_temp = generate_data(556.7,87.30)\n",
        "min_temp = generate_data(424.9,93.73)\n",
        "precipitation = generate_data(0.756,1.33)\n",
        "eco_index =  generate_data(1.183,5.4)\n",
        "oil_price = generate_data(2.896,0.53)"
      ],
      "execution_count": null,
      "outputs": []
    },
    {
      "cell_type": "code",
      "metadata": {
        "id": "A1PZSeCwqQRw"
      },
      "source": [
        "column_values = ['sales','price','discount','visits','households','avg_temp','max_temp','min_temp','precipitation','eco_index','oil_price']"
      ],
      "execution_count": null,
      "outputs": []
    },
    {
      "cell_type": "code",
      "metadata": {
        "id": "pqQC2PXmrmYv"
      },
      "source": [
        "data = np.column_stack((sales,price,discount,visits,households,avg_temp,max_temp,min_temp,precipitation,eco_index,oil_price))"
      ],
      "execution_count": null,
      "outputs": []
    },
    {
      "cell_type": "code",
      "metadata": {
        "id": "DQZtTfXTr0S4"
      },
      "source": [
        "df = pd.DataFrame(data = data, columns = column_values)"
      ],
      "execution_count": null,
      "outputs": []
    },
    {
      "cell_type": "code",
      "metadata": {
        "colab": {
          "base_uri": "https://localhost:8080/",
          "height": 224
        },
        "id": "xDyfMMA4sq9G",
        "outputId": "9fb70ea7-df50-4260-8943-f8a165341610"
      },
      "source": [
        "df.head()"
      ],
      "execution_count": null,
      "outputs": [
        {
          "output_type": "execute_result",
          "data": {
            "text/html": [
              "<div>\n",
              "<style scoped>\n",
              "    .dataframe tbody tr th:only-of-type {\n",
              "        vertical-align: middle;\n",
              "    }\n",
              "\n",
              "    .dataframe tbody tr th {\n",
              "        vertical-align: top;\n",
              "    }\n",
              "\n",
              "    .dataframe thead th {\n",
              "        text-align: right;\n",
              "    }\n",
              "</style>\n",
              "<table border=\"1\" class=\"dataframe\">\n",
              "  <thead>\n",
              "    <tr style=\"text-align: right;\">\n",
              "      <th></th>\n",
              "      <th>sales</th>\n",
              "      <th>price</th>\n",
              "      <th>discount</th>\n",
              "      <th>visits</th>\n",
              "      <th>households</th>\n",
              "      <th>avg_temp</th>\n",
              "      <th>max_temp</th>\n",
              "      <th>min_temp</th>\n",
              "      <th>precipitation</th>\n",
              "      <th>eco_index</th>\n",
              "      <th>oil_price</th>\n",
              "    </tr>\n",
              "  </thead>\n",
              "  <tbody>\n",
              "    <tr>\n",
              "      <th>0</th>\n",
              "      <td>31.290381</td>\n",
              "      <td>3.698196</td>\n",
              "      <td>0.376167</td>\n",
              "      <td>32.877810</td>\n",
              "      <td>35.131583</td>\n",
              "      <td>467.057936</td>\n",
              "      <td>396.799454</td>\n",
              "      <td>265.140879</td>\n",
              "      <td>1.006842</td>\n",
              "      <td>-4.623676</td>\n",
              "      <td>3.116639</td>\n",
              "    </tr>\n",
              "    <tr>\n",
              "      <th>1</th>\n",
              "      <td>31.218834</td>\n",
              "      <td>3.293287</td>\n",
              "      <td>-0.038368</td>\n",
              "      <td>29.184546</td>\n",
              "      <td>15.456885</td>\n",
              "      <td>499.426483</td>\n",
              "      <td>647.953276</td>\n",
              "      <td>333.940018</td>\n",
              "      <td>1.485414</td>\n",
              "      <td>5.327224</td>\n",
              "      <td>1.939368</td>\n",
              "    </tr>\n",
              "    <tr>\n",
              "      <th>2</th>\n",
              "      <td>43.535013</td>\n",
              "      <td>3.061439</td>\n",
              "      <td>0.150960</td>\n",
              "      <td>36.275271</td>\n",
              "      <td>27.926937</td>\n",
              "      <td>411.413302</td>\n",
              "      <td>571.391286</td>\n",
              "      <td>354.624274</td>\n",
              "      <td>0.269376</td>\n",
              "      <td>0.154045</td>\n",
              "      <td>2.405483</td>\n",
              "    </tr>\n",
              "    <tr>\n",
              "      <th>3</th>\n",
              "      <td>52.782984</td>\n",
              "      <td>2.790668</td>\n",
              "      <td>-0.240317</td>\n",
              "      <td>20.807179</td>\n",
              "      <td>31.847968</td>\n",
              "      <td>661.329716</td>\n",
              "      <td>430.403079</td>\n",
              "      <td>398.924127</td>\n",
              "      <td>-0.806859</td>\n",
              "      <td>-0.139051</td>\n",
              "      <td>2.661227</td>\n",
              "    </tr>\n",
              "    <tr>\n",
              "      <th>4</th>\n",
              "      <td>29.806685</td>\n",
              "      <td>4.622580</td>\n",
              "      <td>-0.395553</td>\n",
              "      <td>8.909365</td>\n",
              "      <td>31.629659</td>\n",
              "      <td>603.444823</td>\n",
              "      <td>473.932225</td>\n",
              "      <td>473.208459</td>\n",
              "      <td>2.045073</td>\n",
              "      <td>-6.555098</td>\n",
              "      <td>3.738934</td>\n",
              "    </tr>\n",
              "  </tbody>\n",
              "</table>\n",
              "</div>"
            ],
            "text/plain": [
              "       sales     price  discount  ...  precipitation  eco_index  oil_price\n",
              "0  31.290381  3.698196  0.376167  ...       1.006842  -4.623676   3.116639\n",
              "1  31.218834  3.293287 -0.038368  ...       1.485414   5.327224   1.939368\n",
              "2  43.535013  3.061439  0.150960  ...       0.269376   0.154045   2.405483\n",
              "3  52.782984  2.790668 -0.240317  ...      -0.806859  -0.139051   2.661227\n",
              "4  29.806685  4.622580 -0.395553  ...       2.045073  -6.555098   3.738934\n",
              "\n",
              "[5 rows x 11 columns]"
            ]
          },
          "metadata": {},
          "execution_count": 2480
        }
      ]
    },
    {
      "cell_type": "code",
      "metadata": {
        "colab": {
          "base_uri": "https://localhost:8080/",
          "height": 439
        },
        "id": "y8I4Iiitr7i3",
        "outputId": "04b7c41f-7d6e-4abd-b91d-0ec443c75595"
      },
      "source": [
        "df"
      ],
      "execution_count": null,
      "outputs": [
        {
          "output_type": "execute_result",
          "data": {
            "text/html": [
              "<div>\n",
              "<style scoped>\n",
              "    .dataframe tbody tr th:only-of-type {\n",
              "        vertical-align: middle;\n",
              "    }\n",
              "\n",
              "    .dataframe tbody tr th {\n",
              "        vertical-align: top;\n",
              "    }\n",
              "\n",
              "    .dataframe thead th {\n",
              "        text-align: right;\n",
              "    }\n",
              "</style>\n",
              "<table border=\"1\" class=\"dataframe\">\n",
              "  <thead>\n",
              "    <tr style=\"text-align: right;\">\n",
              "      <th></th>\n",
              "      <th>sales</th>\n",
              "      <th>price</th>\n",
              "      <th>discount</th>\n",
              "      <th>visits</th>\n",
              "      <th>households</th>\n",
              "      <th>avg_temp</th>\n",
              "      <th>max_temp</th>\n",
              "      <th>min_temp</th>\n",
              "      <th>precipitation</th>\n",
              "      <th>eco_index</th>\n",
              "      <th>oil_price</th>\n",
              "    </tr>\n",
              "  </thead>\n",
              "  <tbody>\n",
              "    <tr>\n",
              "      <th>0</th>\n",
              "      <td>31.290381</td>\n",
              "      <td>3.698196</td>\n",
              "      <td>0.376167</td>\n",
              "      <td>32.877810</td>\n",
              "      <td>35.131583</td>\n",
              "      <td>467.057936</td>\n",
              "      <td>396.799454</td>\n",
              "      <td>265.140879</td>\n",
              "      <td>1.006842</td>\n",
              "      <td>-4.623676</td>\n",
              "      <td>3.116639</td>\n",
              "    </tr>\n",
              "    <tr>\n",
              "      <th>1</th>\n",
              "      <td>31.218834</td>\n",
              "      <td>3.293287</td>\n",
              "      <td>-0.038368</td>\n",
              "      <td>29.184546</td>\n",
              "      <td>15.456885</td>\n",
              "      <td>499.426483</td>\n",
              "      <td>647.953276</td>\n",
              "      <td>333.940018</td>\n",
              "      <td>1.485414</td>\n",
              "      <td>5.327224</td>\n",
              "      <td>1.939368</td>\n",
              "    </tr>\n",
              "    <tr>\n",
              "      <th>2</th>\n",
              "      <td>43.535013</td>\n",
              "      <td>3.061439</td>\n",
              "      <td>0.150960</td>\n",
              "      <td>36.275271</td>\n",
              "      <td>27.926937</td>\n",
              "      <td>411.413302</td>\n",
              "      <td>571.391286</td>\n",
              "      <td>354.624274</td>\n",
              "      <td>0.269376</td>\n",
              "      <td>0.154045</td>\n",
              "      <td>2.405483</td>\n",
              "    </tr>\n",
              "    <tr>\n",
              "      <th>3</th>\n",
              "      <td>52.782984</td>\n",
              "      <td>2.790668</td>\n",
              "      <td>-0.240317</td>\n",
              "      <td>20.807179</td>\n",
              "      <td>31.847968</td>\n",
              "      <td>661.329716</td>\n",
              "      <td>430.403079</td>\n",
              "      <td>398.924127</td>\n",
              "      <td>-0.806859</td>\n",
              "      <td>-0.139051</td>\n",
              "      <td>2.661227</td>\n",
              "    </tr>\n",
              "    <tr>\n",
              "      <th>4</th>\n",
              "      <td>29.806685</td>\n",
              "      <td>4.622580</td>\n",
              "      <td>-0.395553</td>\n",
              "      <td>8.909365</td>\n",
              "      <td>31.629659</td>\n",
              "      <td>603.444823</td>\n",
              "      <td>473.932225</td>\n",
              "      <td>473.208459</td>\n",
              "      <td>2.045073</td>\n",
              "      <td>-6.555098</td>\n",
              "      <td>3.738934</td>\n",
              "    </tr>\n",
              "    <tr>\n",
              "      <th>...</th>\n",
              "      <td>...</td>\n",
              "      <td>...</td>\n",
              "      <td>...</td>\n",
              "      <td>...</td>\n",
              "      <td>...</td>\n",
              "      <td>...</td>\n",
              "      <td>...</td>\n",
              "      <td>...</td>\n",
              "      <td>...</td>\n",
              "      <td>...</td>\n",
              "      <td>...</td>\n",
              "    </tr>\n",
              "    <tr>\n",
              "      <th>151</th>\n",
              "      <td>41.008593</td>\n",
              "      <td>2.857320</td>\n",
              "      <td>-0.018739</td>\n",
              "      <td>32.431738</td>\n",
              "      <td>9.873897</td>\n",
              "      <td>522.382639</td>\n",
              "      <td>508.813839</td>\n",
              "      <td>553.264265</td>\n",
              "      <td>0.913068</td>\n",
              "      <td>11.321718</td>\n",
              "      <td>3.381665</td>\n",
              "    </tr>\n",
              "    <tr>\n",
              "      <th>152</th>\n",
              "      <td>41.766279</td>\n",
              "      <td>4.476717</td>\n",
              "      <td>0.024785</td>\n",
              "      <td>40.849959</td>\n",
              "      <td>9.494886</td>\n",
              "      <td>391.394533</td>\n",
              "      <td>466.046964</td>\n",
              "      <td>381.440156</td>\n",
              "      <td>1.593006</td>\n",
              "      <td>-3.870688</td>\n",
              "      <td>2.938434</td>\n",
              "    </tr>\n",
              "    <tr>\n",
              "      <th>153</th>\n",
              "      <td>37.694025</td>\n",
              "      <td>2.094760</td>\n",
              "      <td>0.532553</td>\n",
              "      <td>6.659009</td>\n",
              "      <td>2.089353</td>\n",
              "      <td>527.514413</td>\n",
              "      <td>571.371826</td>\n",
              "      <td>477.932291</td>\n",
              "      <td>1.897847</td>\n",
              "      <td>-2.022110</td>\n",
              "      <td>2.900825</td>\n",
              "    </tr>\n",
              "    <tr>\n",
              "      <th>154</th>\n",
              "      <td>51.386237</td>\n",
              "      <td>3.934556</td>\n",
              "      <td>0.387644</td>\n",
              "      <td>15.705885</td>\n",
              "      <td>33.830919</td>\n",
              "      <td>541.388535</td>\n",
              "      <td>449.400664</td>\n",
              "      <td>275.852811</td>\n",
              "      <td>3.305649</td>\n",
              "      <td>-3.818430</td>\n",
              "      <td>3.111997</td>\n",
              "    </tr>\n",
              "    <tr>\n",
              "      <th>155</th>\n",
              "      <td>41.367251</td>\n",
              "      <td>2.291726</td>\n",
              "      <td>0.659797</td>\n",
              "      <td>26.448967</td>\n",
              "      <td>40.413732</td>\n",
              "      <td>455.289211</td>\n",
              "      <td>656.236588</td>\n",
              "      <td>441.277433</td>\n",
              "      <td>2.061417</td>\n",
              "      <td>-2.535786</td>\n",
              "      <td>3.399452</td>\n",
              "    </tr>\n",
              "  </tbody>\n",
              "</table>\n",
              "<p>156 rows × 11 columns</p>\n",
              "</div>"
            ],
            "text/plain": [
              "         sales     price  discount  ...  precipitation  eco_index  oil_price\n",
              "0    31.290381  3.698196  0.376167  ...       1.006842  -4.623676   3.116639\n",
              "1    31.218834  3.293287 -0.038368  ...       1.485414   5.327224   1.939368\n",
              "2    43.535013  3.061439  0.150960  ...       0.269376   0.154045   2.405483\n",
              "3    52.782984  2.790668 -0.240317  ...      -0.806859  -0.139051   2.661227\n",
              "4    29.806685  4.622580 -0.395553  ...       2.045073  -6.555098   3.738934\n",
              "..         ...       ...       ...  ...            ...        ...        ...\n",
              "151  41.008593  2.857320 -0.018739  ...       0.913068  11.321718   3.381665\n",
              "152  41.766279  4.476717  0.024785  ...       1.593006  -3.870688   2.938434\n",
              "153  37.694025  2.094760  0.532553  ...       1.897847  -2.022110   2.900825\n",
              "154  51.386237  3.934556  0.387644  ...       3.305649  -3.818430   3.111997\n",
              "155  41.367251  2.291726  0.659797  ...       2.061417  -2.535786   3.399452\n",
              "\n",
              "[156 rows x 11 columns]"
            ]
          },
          "metadata": {},
          "execution_count": 2481
        }
      ]
    },
    {
      "cell_type": "markdown",
      "metadata": {
        "id": "ECwTp5vtwDKz"
      },
      "source": [
        "Time Series"
      ]
    },
    {
      "cell_type": "code",
      "metadata": {
        "id": "OZNWykaAwFGL",
        "colab": {
          "base_uri": "https://localhost:8080/"
        },
        "outputId": "6873894c-d33a-428a-8d1f-3287b2a1867a"
      },
      "source": [
        "\"\"\"Storing sales data which are basically the past values which we will use for the prediction\"\"\"\n",
        "\n",
        "sales_data = df['sales']\n",
        "\n",
        "\"\"\"Printing the shape, actual data set and past sales_data after extracting\"\"\"\n",
        "\n",
        "print('Shape of data \\t', df.shape)\n",
        "print('\\nOriginal data set \\n\\n', df.head())\n",
        "print('After extracting sales data: \\n', sales_data)"
      ],
      "execution_count": null,
      "outputs": [
        {
          "output_type": "stream",
          "name": "stdout",
          "text": [
            "Shape of data \t (156, 11)\n",
            "\n",
            "Original data set \n",
            "\n",
            "        sales     price  discount  ...  precipitation  eco_index  oil_price\n",
            "0  31.290381  3.698196  0.376167  ...       1.006842  -4.623676   3.116639\n",
            "1  31.218834  3.293287 -0.038368  ...       1.485414   5.327224   1.939368\n",
            "2  43.535013  3.061439  0.150960  ...       0.269376   0.154045   2.405483\n",
            "3  52.782984  2.790668 -0.240317  ...      -0.806859  -0.139051   2.661227\n",
            "4  29.806685  4.622580 -0.395553  ...       2.045073  -6.555098   3.738934\n",
            "\n",
            "[5 rows x 11 columns]\n",
            "After extracting sales data: \n",
            " 0      31.290381\n",
            "1      31.218834\n",
            "2      43.535013\n",
            "3      52.782984\n",
            "4      29.806685\n",
            "         ...    \n",
            "151    41.008593\n",
            "152    41.766279\n",
            "153    37.694025\n",
            "154    51.386237\n",
            "155    41.367251\n",
            "Name: sales, Length: 156, dtype: float64\n"
          ]
        }
      ]
    },
    {
      "cell_type": "code",
      "metadata": {
        "colab": {
          "base_uri": "https://localhost:8080/",
          "height": 282
        },
        "id": "8kf_xKJZw316",
        "outputId": "0bd2d1db-78b4-42c6-8243-dba5251dc7d4"
      },
      "source": [
        "\"\"\"sales_data[:50].plot()\"\"\"\n",
        "sales_data.plot()"
      ],
      "execution_count": null,
      "outputs": [
        {
          "output_type": "execute_result",
          "data": {
            "text/plain": [
              "<matplotlib.axes._subplots.AxesSubplot at 0x7f8c9e607550>"
            ]
          },
          "metadata": {},
          "execution_count": 2483
        },
        {
          "output_type": "display_data",
          "data": {
            "image/png": "[encoded data removed]",
            "text/plain": [
              "<Figure size 432x288 with 1 Axes>"
            ]
          },
          "metadata": {
            "needs_background": "light"
          }
        }
      ]
    },
    {
      "cell_type": "markdown",
      "metadata": {
        "id": "BjF8CHnNl_KY"
      },
      "source": [
        "Check for Stationarity\n",
        "(Mean and Variance should not fluctuate much and also to check the Seasonality i.e no repeating patterns)"
      ]
    },
    {
      "cell_type": "code",
      "metadata": {
        "colab": {
          "base_uri": "https://localhost:8080/"
        },
        "id": "mUMfx2pCw9Ex",
        "outputId": "beaf8d1a-e91b-4edf-b0ff-6f757020913e"
      },
      "source": [
        "from statsmodels.tsa.stattools import adfuller\n",
        "\n",
        "\"\"\"Augmented Dickey-Fuller Test for Stationarity test\"\"\"\n",
        "result = adfuller(sales_data, autolag='AIC')\n",
        "\n",
        "print(\"1. ADF :\", result[0])\n",
        "\n",
        "\"\"\"P-value determines if Stationarity is existing or not, if >0.5 then not stationarity \n",
        "   and if <0.5 then only stationarity\"\"\"\n",
        "print(\"2. P-value :\",result[1])\n",
        "\n",
        "print(\"3. Num of Lags :\", result[2])\n",
        "print(\"3. Num of Observations used for ADF Regression and Critical Values Calculations :\", result[3])\n",
        "print(\"Critical values :\")\n",
        "for key, val in result[4].items():\n",
        "  print(\"\\t\", key, \": \", val)"
      ],
      "execution_count": null,
      "outputs": [
        {
          "output_type": "stream",
          "name": "stdout",
          "text": [
            "1. ADF : -5.108699616210177\n",
            "2. P-value : 1.3465174243272831e-05\n",
            "3. Num of Lags : 12\n",
            "3. Num of Observations used for ADF Regression and Critical Values Calculations : 143\n",
            "Critical values :\n",
            "\t 1% :  -3.4769274060112707\n",
            "\t 5% :  -2.8819726324025625\n",
            "\t 10% :  -2.577665408088415\n"
          ]
        }
      ]
    },
    {
      "cell_type": "code",
      "metadata": {
        "colab": {
          "base_uri": "https://localhost:8080/",
          "height": 545
        },
        "id": "Q96qyen5pPvk",
        "outputId": "fc90f40d-b161-4c78-e995-adb2f10ebc3e"
      },
      "source": [
        "from statsmodels.graphics.tsaplots import plot_pacf, plot_acf\n",
        "pacf = plot_pacf(sales_data, lags = 10)\n",
        "acf = plot_acf(sales_data, lags = 10)"
      ],
      "execution_count": null,
      "outputs": [
        {
          "output_type": "display_data",
          "data": {
            "image/png": "[encoded data removed]",
            "text/plain": [
              "<Figure size 432x288 with 1 Axes>"
            ]
          },
          "metadata": {
            "needs_background": "light"
          }
        },
        {
          "output_type": "display_data",
          "data": {
            "image/png": "[encoded data removed]",
            "text/plain": [
              "<Figure size 432x288 with 1 Axes>"
            ]
          },
          "metadata": {
            "needs_background": "light"
          }
        }
      ]
    },
    {
      "cell_type": "code",
      "metadata": {
        "id": "qQUNRiszyXOK"
      },
      "source": [
        "shift1 = sales_data - sales_data.shift(1)"
      ],
      "execution_count": null,
      "outputs": []
    },
    {
      "cell_type": "code",
      "metadata": {
        "colab": {
          "base_uri": "https://localhost:8080/"
        },
        "id": "fSSWfZWTytm1",
        "outputId": "c54f904c-57ea-49b6-9f32-05c9ba455521"
      },
      "source": [
        "sales_data = shift1.dropna()\n",
        "result = adfuller(sales_data)\n",
        "\n",
        "print(\"1. ADF :\", result[0])\n",
        "\n",
        "\"\"\"P-value determines if Stationarity is existing or not, if >0.05 then not stationarity \n",
        "   and if <0.05 then only stationarity\"\"\"\n",
        "print(\"2. P-value :\",result[1])\n",
        "\n",
        "print(\"3. Num of Lags :\", result[2])\n",
        "print(\"3. Num of Observations used for ADF Regression and Critical Values Calculations :\", result[3])\n",
        "print(\"Critical values :\")\n",
        "for key, val in result[4].items():\n",
        "  print(\"\\t\", key, \": \", val)"
      ],
      "execution_count": null,
      "outputs": [
        {
          "output_type": "stream",
          "name": "stdout",
          "text": [
            "1. ADF : -5.608983815884331\n",
            "2. P-value : 1.215708719237428e-06\n",
            "3. Num of Lags : 14\n",
            "3. Num of Observations used for ADF Regression and Critical Values Calculations : 140\n",
            "Critical values :\n",
            "\t 1% :  -3.4779446621720114\n",
            "\t 5% :  -2.8824156122448983\n",
            "\t 10% :  -2.577901887755102\n"
          ]
        }
      ]
    },
    {
      "cell_type": "markdown",
      "metadata": {
        "id": "7czdC0GL48qD"
      },
      "source": [
        "ARMA"
      ]
    },
    {
      "cell_type": "code",
      "metadata": {
        "id": "bdUpyelOxdko"
      },
      "source": [
        "from statsmodels.tsa.arima.model import ARIMA\n",
        "\n",
        "\"\"\"Train the data\"\"\"\n",
        "arma_model = ARIMA(sales_data,order=(1,0,1)).fit()"
      ],
      "execution_count": null,
      "outputs": []
    },
    {
      "cell_type": "code",
      "metadata": {
        "id": "Bu7ExT1ZzdsJ",
        "colab": {
          "base_uri": "https://localhost:8080/"
        },
        "outputId": "c339b8f0-f7e8-4eee-eff2-d43b35dc21f2"
      },
      "source": [
        "print(arma_model.summary())"
      ],
      "execution_count": null,
      "outputs": [
        {
          "output_type": "stream",
          "name": "stdout",
          "text": [
            "                               SARIMAX Results                                \n",
            "==============================================================================\n",
            "Dep. Variable:                  sales   No. Observations:                  155\n",
            "Model:                 ARIMA(1, 0, 1)   Log Likelihood                -638.301\n",
            "Date:                Sun, 24 Oct 2021   AIC                           1284.601\n",
            "Time:                        11:19:57   BIC                           1296.775\n",
            "Sample:                             0   HQIC                          1289.546\n",
            "                                - 155                                         \n",
            "Covariance Type:                  opg                                         \n",
            "==============================================================================\n",
            "                 coef    std err          z      P>|z|      [0.025      0.975]\n",
            "------------------------------------------------------------------------------\n",
            "const          0.0119      0.030      0.400      0.689      -0.047       0.070\n",
            "ar.L1         -0.0529      0.081     -0.654      0.513      -0.211       0.105\n",
            "ma.L1         -1.0000     16.575     -0.060      0.952     -33.485      31.486\n",
            "sigma2       213.7956   3536.354      0.060      0.952   -6717.332    7144.923\n",
            "===================================================================================\n",
            "Ljung-Box (L1) (Q):                   0.01   Jarque-Bera (JB):                 2.93\n",
            "Prob(Q):                              0.94   Prob(JB):                         0.23\n",
            "Heteroskedasticity (H):               0.80   Skew:                             0.28\n",
            "Prob(H) (two-sided):                  0.42   Kurtosis:                         2.62\n",
            "===================================================================================\n",
            "\n",
            "Warnings:\n",
            "[1] Covariance matrix calculated using the outer product of gradients (complex-step).\n"
          ]
        }
      ]
    },
    {
      "cell_type": "code",
      "metadata": {
        "id": "_tieTcDQ1Zbh"
      },
      "source": [
        "\"\"\"To compare the prediction, we created a test data before actually predicting\"\"\"\n",
        "\n",
        "test1 = sales_data[0:len(sales_data)-149]"
      ],
      "execution_count": null,
      "outputs": []
    },
    {
      "cell_type": "code",
      "metadata": {
        "id": "TZ6k-QHHzt9h"
      },
      "source": [
        "arma_pred = arma_model.predict(start=0,end=len(sales_data)-150,dynamic = False)"
      ],
      "execution_count": null,
      "outputs": []
    },
    {
      "cell_type": "code",
      "metadata": {
        "colab": {
          "base_uri": "https://localhost:8080/",
          "height": 384
        },
        "id": "uOPa-riQ1O25",
        "outputId": "843c69c5-602e-4ed5-a146-6578ddef6f4c"
      },
      "source": [
        "from matplotlib import pyplot\n",
        "pyplot.plot(arma_pred)\n",
        "pyplot.plot(test1, color='red')\n",
        "print(arma_pred)"
      ],
      "execution_count": null,
      "outputs": [
        {
          "output_type": "stream",
          "name": "stdout",
          "text": [
            "1     0.011926\n",
            "2     0.055870\n",
            "3    -8.670695\n",
            "4   -13.800090\n",
            "5     8.530905\n",
            "6    15.078286\n",
            "Name: predicted_mean, dtype: float64\n"
          ]
        },
        {
          "output_type": "display_data",
          "data": {
            "image/png": "[encoded data removed]",
            "text/plain": [
              "<Figure size 432x288 with 1 Axes>"
            ]
          },
          "metadata": {
            "needs_background": "light"
          }
        }
      ]
    },
    {
      "cell_type": "markdown",
      "metadata": {
        "id": "tSdH1jHW4MM0"
      },
      "source": [
        "Prediction Error in ARMA"
      ]
    },
    {
      "cell_type": "code",
      "metadata": {
        "colab": {
          "base_uri": "https://localhost:8080/"
        },
        "id": "y1COCKxo3fEB",
        "outputId": "04d7fd2c-506e-427b-880e-fe809f7bb25a"
      },
      "source": [
        "from math import sqrt\n",
        "from sklearn.metrics import mean_squared_error\n",
        "rmse1 = sqrt(mean_squared_error(test1, arma_pred))\n",
        "\n",
        "print(rmse1)"
      ],
      "execution_count": null,
      "outputs": [
        {
          "output_type": "stream",
          "name": "stdout",
          "text": [
            "14.69958993098825\n"
          ]
        }
      ]
    },
    {
      "cell_type": "markdown",
      "metadata": {
        "id": "oP5Hr6EF4rHj"
      },
      "source": [
        "ARIMA"
      ]
    },
    {
      "cell_type": "code",
      "metadata": {
        "id": "dQDNAzcb7bXl"
      },
      "source": [
        "from pmdarima import auto_arima\n",
        "#Ignore harmless warnings\n",
        "import warnings\n",
        "warnings.filterwarnings(\"ignore\")"
      ],
      "execution_count": null,
      "outputs": []
    },
    {
      "cell_type": "markdown",
      "metadata": {
        "id": "CKb6g_t_8Bpg"
      },
      "source": [
        "Determining order for ARIMA"
      ]
    },
    {
      "cell_type": "code",
      "metadata": {
        "colab": {
          "base_uri": "https://localhost:8080/"
        },
        "id": "1WiKQCJp799l",
        "outputId": "9c11f70b-4358-40a9-dd5c-761c4b315336"
      },
      "source": [
        "stepwise_fit = auto_arima(sales_data, trace=True, suppress_warnings=True)\n",
        "print(stepwise_fit.summary())"
      ],
      "execution_count": null,
      "outputs": [
        {
          "output_type": "stream",
          "name": "stdout",
          "text": [
            "Performing stepwise search to minimize aic\n",
            " ARIMA(2,0,2)(0,0,0)[0] intercept   : AIC=inf, Time=0.42 sec\n",
            " ARIMA(0,0,0)(0,0,0)[0] intercept   : AIC=1392.053, Time=0.01 sec\n",
            " ARIMA(1,0,0)(0,0,0)[0] intercept   : AIC=1347.346, Time=0.05 sec\n",
            " ARIMA(0,0,1)(0,0,0)[0] intercept   : AIC=inf, Time=0.11 sec\n",
            " ARIMA(0,0,0)(0,0,0)[0]             : AIC=1390.055, Time=0.01 sec\n",
            " ARIMA(2,0,0)(0,0,0)[0] intercept   : AIC=1337.046, Time=0.09 sec\n",
            " ARIMA(3,0,0)(0,0,0)[0] intercept   : AIC=1317.473, Time=0.14 sec\n",
            " ARIMA(4,0,0)(0,0,0)[0] intercept   : AIC=1315.377, Time=0.11 sec\n",
            " ARIMA(5,0,0)(0,0,0)[0] intercept   : AIC=1315.125, Time=0.23 sec\n",
            " ARIMA(5,0,1)(0,0,0)[0] intercept   : AIC=inf, Time=0.55 sec\n",
            " ARIMA(4,0,1)(0,0,0)[0] intercept   : AIC=inf, Time=0.42 sec\n",
            " ARIMA(5,0,0)(0,0,0)[0]             : AIC=1313.139, Time=0.09 sec\n",
            " ARIMA(4,0,0)(0,0,0)[0]             : AIC=1313.386, Time=0.08 sec\n",
            " ARIMA(5,0,1)(0,0,0)[0]             : AIC=inf, Time=0.42 sec\n",
            " ARIMA(4,0,1)(0,0,0)[0]             : AIC=inf, Time=0.34 sec\n",
            "\n",
            "Best model:  ARIMA(5,0,0)(0,0,0)[0]          \n",
            "Total fit time: 3.082 seconds\n",
            "                               SARIMAX Results                                \n",
            "==============================================================================\n",
            "Dep. Variable:                      y   No. Observations:                  155\n",
            "Model:               SARIMAX(5, 0, 0)   Log Likelihood                -650.569\n",
            "Date:                Sun, 24 Oct 2021   AIC                           1313.139\n",
            "Time:                        11:20:01   BIC                           1331.399\n",
            "Sample:                             0   HQIC                          1320.556\n",
            "                                - 155                                         \n",
            "Covariance Type:                  opg                                         \n",
            "==============================================================================\n",
            "                 coef    std err          z      P>|z|      [0.025      0.975]\n",
            "------------------------------------------------------------------------------\n",
            "ar.L1         -0.8296      0.080    -10.320      0.000      -0.987      -0.672\n",
            "ar.L2         -0.6531      0.115     -5.698      0.000      -0.878      -0.428\n",
            "ar.L3         -0.5522      0.118     -4.683      0.000      -0.783      -0.321\n",
            "ar.L4         -0.2586      0.110     -2.351      0.019      -0.474      -0.043\n",
            "ar.L5         -0.1193      0.088     -1.361      0.173      -0.291       0.052\n",
            "sigma2       257.1657     33.927      7.580      0.000     190.669     323.662\n",
            "===================================================================================\n",
            "Ljung-Box (L1) (Q):                   0.18   Jarque-Bera (JB):                 1.35\n",
            "Prob(Q):                              0.67   Prob(JB):                         0.51\n",
            "Heteroskedasticity (H):               0.77   Skew:                            -0.08\n",
            "Prob(H) (two-sided):                  0.35   Kurtosis:                         2.58\n",
            "===================================================================================\n",
            "\n",
            "Warnings:\n",
            "[1] Covariance matrix calculated using the outer product of gradients (complex-step).\n"
          ]
        }
      ]
    },
    {
      "cell_type": "code",
      "metadata": {
        "id": "WIU0dQDt0kl-"
      },
      "source": [
        "from statsmodels.tsa.arima.model import ARIMA\n",
        "arima_model = ARIMA(sales_data,order=(5,0,0)).fit()"
      ],
      "execution_count": null,
      "outputs": []
    },
    {
      "cell_type": "code",
      "metadata": {
        "id": "_1xUsoCP1I3X",
        "colab": {
          "base_uri": "https://localhost:8080/"
        },
        "outputId": "a21a5dad-55c5-4246-969d-61248b86b2f2"
      },
      "source": [
        "print(arima_model.summary())"
      ],
      "execution_count": null,
      "outputs": [
        {
          "output_type": "stream",
          "name": "stdout",
          "text": [
            "                               SARIMAX Results                                \n",
            "==============================================================================\n",
            "Dep. Variable:                  sales   No. Observations:                  155\n",
            "Model:                 ARIMA(4, 0, 1)   Log Likelihood                -636.571\n",
            "Date:                Sun, 24 Oct 2021   AIC                           1287.143\n",
            "Time:                        11:20:01   BIC                           1308.447\n",
            "Sample:                             0   HQIC                          1295.796\n",
            "                                - 155                                         \n",
            "Covariance Type:                  opg                                         \n",
            "==============================================================================\n",
            "                 coef    std err          z      P>|z|      [0.025      0.975]\n",
            "------------------------------------------------------------------------------\n",
            "const          0.0113      0.028      0.408      0.683      -0.043       0.065\n",
            "ar.L1         -0.0521      0.080     -0.648      0.517      -0.210       0.105\n",
            "ar.L2         -0.0398      0.083     -0.481      0.631      -0.202       0.122\n",
            "ar.L3         -0.1235      0.083     -1.482      0.138      -0.287       0.040\n",
            "ar.L4          0.0664      0.081      0.815      0.415      -0.093       0.226\n",
            "ma.L1         -0.9999     10.482     -0.095      0.924     -21.544      19.545\n",
            "sigma2       208.7584   2182.881      0.096      0.924   -4069.610    4487.127\n",
            "===================================================================================\n",
            "Ljung-Box (L1) (Q):                   0.00   Jarque-Bera (JB):                 2.96\n",
            "Prob(Q):                              1.00   Prob(JB):                         0.23\n",
            "Heteroskedasticity (H):               0.81   Skew:                             0.30\n",
            "Prob(H) (two-sided):                  0.45   Kurtosis:                         2.68\n",
            "===================================================================================\n",
            "\n",
            "Warnings:\n",
            "[1] Covariance matrix calculated using the outer product of gradients (complex-step).\n"
          ]
        }
      ]
    },
    {
      "cell_type": "code",
      "metadata": {
        "id": "U5wCu55c5qP6"
      },
      "source": [
        "\"\"\"To compare the prediction, we created a test data before actually predicting\"\"\"\n",
        "\n",
        "test2 = sales_data[0:len(sales_data)-149]"
      ],
      "execution_count": null,
      "outputs": []
    },
    {
      "cell_type": "code",
      "metadata": {
        "colab": {
          "base_uri": "https://localhost:8080/",
          "height": 384
        },
        "id": "sRYUVpux9zUK",
        "outputId": "9fba68f6-582e-4216-eb4f-274aa8cdaac2"
      },
      "source": [
        "arima_pred = arima_model.predict(start=0,end=len(sales_data)-150,type='levels')\n",
        "\n",
        "from matplotlib import pyplot\n",
        "pyplot.plot(arima_pred)\n",
        "pyplot.plot(test2, color='red')\n",
        "print(arima_pred)"
      ],
      "execution_count": null,
      "outputs": [
        {
          "output_type": "stream",
          "name": "stdout",
          "text": [
            "1     0.044885\n",
            "2     0.104285\n",
            "3    -7.925418\n",
            "4   -13.126474\n",
            "5     7.332610\n",
            "6    14.370278\n",
            "Name: predicted_mean, dtype: float64\n"
          ]
        },
        {
          "output_type": "display_data",
          "data": {
            "image/png": "[encoded data removed]",
            "text/plain": [
              "<Figure size 432x288 with 1 Axes>"
            ]
          },
          "metadata": {
            "needs_background": "light"
          }
        }
      ]
    },
    {
      "cell_type": "markdown",
      "metadata": {
        "id": "hB24EPK1AMGl"
      },
      "source": [
        "Prediction of error ARIMA"
      ]
    },
    {
      "cell_type": "code",
      "metadata": {
        "colab": {
          "base_uri": "https://localhost:8080/"
        },
        "id": "q19qfwmtAO6T",
        "outputId": "e2534beb-2b86-4e93-b79d-27ded26ad312"
      },
      "source": [
        "from math import sqrt\n",
        "from sklearn.metrics import mean_squared_error\n",
        "rmse2 = sqrt(mean_squared_error(test2, arima_pred))\n",
        "\n",
        "print(rmse2)"
      ],
      "execution_count": null,
      "outputs": [
        {
          "output_type": "stream",
          "name": "stdout",
          "text": [
            "14.532135896298632\n"
          ]
        }
      ]
    },
    {
      "cell_type": "markdown",
      "metadata": {
        "id": "1EnN3Awg-juE"
      },
      "source": [
        "SARIMA"
      ]
    },
    {
      "cell_type": "code",
      "metadata": {
        "id": "j6AYmfEQ1ij5"
      },
      "source": [
        "\"\"\"SARIMA\"\"\"\n",
        "import statsmodels.api as sm  \n",
        "model2=sm.tsa.statespace.SARIMAX(sales_data,order=(2,1,2),seasonal_order=(2,1,2,6))\n",
        "sarima_model = model2.fit()"
      ],
      "execution_count": null,
      "outputs": []
    },
    {
      "cell_type": "code",
      "metadata": {
        "id": "qdbwuUmT122C",
        "colab": {
          "base_uri": "https://localhost:8080/"
        },
        "outputId": "6cc0356a-5b09-42ee-c75b-2ddd3fb2c434"
      },
      "source": [
        "print(sarima_model.summary())"
      ],
      "execution_count": null,
      "outputs": [
        {
          "output_type": "stream",
          "name": "stdout",
          "text": [
            "                                     SARIMAX Results                                     \n",
            "=========================================================================================\n",
            "Dep. Variable:                             sales   No. Observations:                  155\n",
            "Model:             SARIMAX(2, 1, 2)x(2, 1, 2, 6)   Log Likelihood                -654.020\n",
            "Date:                           Sun, 24 Oct 2021   AIC                           1326.039\n",
            "Time:                                   11:20:03   BIC                           1353.014\n",
            "Sample:                                        0   HQIC                          1336.999\n",
            "                                           - 155                                         \n",
            "Covariance Type:                             opg                                         \n",
            "==============================================================================\n",
            "                 coef    std err          z      P>|z|      [0.025      0.975]\n",
            "------------------------------------------------------------------------------\n",
            "ar.L1         -1.4478      0.210     -6.892      0.000      -1.860      -1.036\n",
            "ar.L2         -0.4570      0.142     -3.218      0.001      -0.735      -0.179\n",
            "ma.L1         -0.0448     18.071     -0.002      0.998     -35.463      35.374\n",
            "ma.L2         -0.9546     17.205     -0.055      0.956     -34.676      32.767\n",
            "ar.S.L6       -0.7012      0.633     -1.108      0.268      -1.941       0.539\n",
            "ar.S.L12      -0.1719      0.117     -1.465      0.143      -0.402       0.058\n",
            "ma.S.L6       -0.4192      1.948     -0.215      0.830      -4.238       3.399\n",
            "ma.S.L12      -0.5740      1.346     -0.426      0.670      -3.212       2.064\n",
            "sigma2       328.8199   5955.876      0.055      0.956   -1.13e+04     1.2e+04\n",
            "===================================================================================\n",
            "Ljung-Box (L1) (Q):                   3.20   Jarque-Bera (JB):                 1.17\n",
            "Prob(Q):                              0.07   Prob(JB):                         0.56\n",
            "Heteroskedasticity (H):               0.70   Skew:                            -0.08\n",
            "Prob(H) (two-sided):                  0.22   Kurtosis:                         2.59\n",
            "===================================================================================\n",
            "\n",
            "Warnings:\n",
            "[1] Covariance matrix calculated using the outer product of gradients (complex-step).\n"
          ]
        }
      ]
    },
    {
      "cell_type": "code",
      "metadata": {
        "id": "V_5fV5f318_U",
        "colab": {
          "base_uri": "https://localhost:8080/"
        },
        "outputId": "77d96878-cda9-4679-a412-e5732958f949"
      },
      "source": [
        "sarima_pred = sarima_model.predict(start=46,end=60,dynamic=True)\n",
        "print(sarima_pred)"
      ],
      "execution_count": null,
      "outputs": [
        {
          "output_type": "stream",
          "name": "stdout",
          "text": [
            "47   -17.859525\n",
            "48     9.660163\n",
            "49    -4.639372\n",
            "50    14.101116\n",
            "51   -14.170641\n",
            "52    12.129739\n",
            "53    -4.340350\n",
            "54     2.475417\n",
            "55     3.919863\n",
            "56     7.295586\n",
            "57   -10.908118\n",
            "58     9.477631\n",
            "59     3.483877\n",
            "60    -4.764550\n",
            "61     1.061326\n",
            "Name: predicted_mean, dtype: float64\n"
          ]
        }
      ]
    },
    {
      "cell_type": "code",
      "metadata": {
        "id": "WUy-dXfu5gAr",
        "colab": {
          "base_uri": "https://localhost:8080/",
          "height": 282
        },
        "outputId": "db2888ce-2e95-4c04-c211-eaaaa1c11061"
      },
      "source": [
        "sarima_pred.plot()"
      ],
      "execution_count": null,
      "outputs": [
        {
          "output_type": "execute_result",
          "data": {
            "text/plain": [
              "<matplotlib.axes._subplots.AxesSubplot at 0x7f8c9ea4cf10>"
            ]
          },
          "metadata": {},
          "execution_count": 2504
        },
        {
          "output_type": "display_data",
          "data": {
            "image/png": "[encoded data removed]",
            "text/plain": [
              "<Figure size 432x288 with 1 Axes>"
            ]
          },
          "metadata": {
            "needs_background": "light"
          }
        }
      ]
    },
    {
      "cell_type": "code",
      "metadata": {
        "id": "BCEwWL3O4KC1"
      },
      "source": [
        "\"\"\"SNF\"\"\"\n",
        "def seasonal_naive_forecast(series, seasonal_period, forecast_horizon):\n",
        "\n",
        "     if len(series) < seasonal_period:\n",
        "         raise Error(\"There must be at least 'seasonal_period' observations\")\n",
        "\n",
        "     # We assume 'series' to be a pandas.Series object\n",
        "     prev_season = series.iloc[-seasonal_period:]\n",
        "\n",
        "     season_number = int(np.ceil(forecast_horizon/seasonal_period))\n",
        "\n",
        "     next_seasons = np.tile(prev_season, season_number)\n",
        "\n",
        "     # We were only asked to predict the next 'forecast_horizon' values\n",
        "     return pd.Series(next_seasons[:forecast_horizon])"
      ],
      "execution_count": null,
      "outputs": []
    },
    {
      "cell_type": "code",
      "metadata": {
        "id": "VkGOxEw14qJe"
      },
      "source": [
        "snf_result = seasonal_naive_forecast(sales_data,52,65)"
      ],
      "execution_count": null,
      "outputs": []
    },
    {
      "cell_type": "code",
      "metadata": {
        "id": "D7oNrRSa431W",
        "colab": {
          "base_uri": "https://localhost:8080/"
        },
        "outputId": "be341172-f1ae-48ff-cace-8ab11a764097"
      },
      "source": [
        "snf_result[46:61]"
      ],
      "execution_count": null,
      "outputs": [
        {
          "output_type": "execute_result",
          "data": {
            "text/plain": [
              "46     6.784050\n",
              "47    -8.673895\n",
              "48     0.757686\n",
              "49    -4.072254\n",
              "50    13.692212\n",
              "51   -10.018985\n",
              "52     8.773813\n",
              "53    11.460856\n",
              "54   -18.050279\n",
              "55    21.560295\n",
              "56   -27.296169\n",
              "57    38.626847\n",
              "58   -17.968368\n",
              "59    17.794203\n",
              "60   -43.183812\n",
              "dtype: float64"
            ]
          },
          "metadata": {},
          "execution_count": 2507
        }
      ]
    },
    {
      "cell_type": "code",
      "metadata": {
        "id": "E_7xuoFI5c8S",
        "colab": {
          "base_uri": "https://localhost:8080/",
          "height": 282
        },
        "outputId": "d5587f81-8bcf-4026-f916-01052f21ba55"
      },
      "source": [
        "s = snf_result[45:61]\n",
        "s.plot()"
      ],
      "execution_count": null,
      "outputs": [
        {
          "output_type": "execute_result",
          "data": {
            "text/plain": [
              "<matplotlib.axes._subplots.AxesSubplot at 0x7f8ca0a56190>"
            ]
          },
          "metadata": {},
          "execution_count": 2508
        },
        {
          "output_type": "display_data",
          "data": {
            "image/png": "[encoded data removed]",
            "text/plain": [
              "<Figure size 432x288 with 1 Axes>"
            ]
          },
          "metadata": {
            "needs_background": "light"
          }
        }
      ]
    },
    {
      "cell_type": "code",
      "metadata": {
        "id": "BycPDJJEHary",
        "colab": {
          "base_uri": "https://localhost:8080/",
          "height": 282
        },
        "outputId": "d72a1f6d-9c14-4b94-9fa5-853fcd7ab0c9"
      },
      "source": [
        "a=sales[45:60]\n",
        "b=[46,47,48,49,50,51,52,53,54,55,56,57,58,59,60]\n",
        "import matplotlib.pyplot as plt\n",
        "plt.plot(b,a)"
      ],
      "execution_count": null,
      "outputs": [
        {
          "output_type": "execute_result",
          "data": {
            "text/plain": [
              "[<matplotlib.lines.Line2D at 0x7f8ca382b210>]"
            ]
          },
          "metadata": {},
          "execution_count": 2509
        },
        {
          "output_type": "display_data",
          "data": {
            "image/png": "[encoded data removed]",
            "text/plain": [
              "<Figure size 432x288 with 1 Axes>"
            ]
          },
          "metadata": {
            "needs_background": "light"
          }
        }
      ]
    },
    {
      "cell_type": "code",
      "metadata": {
        "id": "P-lIWmmyFT8f",
        "colab": {
          "base_uri": "https://localhost:8080/",
          "height": 282
        },
        "outputId": "6753060f-5d5b-4932-b8bf-6790e87dc0c0"
      },
      "source": [
        "from matplotlib import pyplot\n",
        "pyplot.plot(arma_pred, color='black')\n",
        "pyplot.plot(arima_pred, color='red')\n",
        "pyplot.plot(sarima_pred, color='blue')\n",
        "pyplot.plot(s, color='orange') #SNF\n",
        "\n",
        "##arima_pred.plot() #Orange\n",
        "#sarima_pred.plot()  #Green\n",
        "#plt.plot(b,a) #Red (Sales data)\n",
        "#s.plot()  #Violet (SNF)"
      ],
      "execution_count": null,
      "outputs": [
        {
          "output_type": "execute_result",
          "data": {
            "text/plain": [
              "[<matplotlib.lines.Line2D at 0x7f8ca399abd0>]"
            ]
          },
          "metadata": {},
          "execution_count": 2510
        },
        {
          "output_type": "display_data",
          "data": {
            "image/png": "[encoded data removed]",
            "text/plain": [
              "<Figure size 432x288 with 1 Axes>"
            ]
          },
          "metadata": {
            "needs_background": "light"
          }
        }
      ]
    },
    {
      "cell_type": "markdown",
      "metadata": {
        "id": "h7omg6pZvJ_0"
      },
      "source": [
        "Machine Learning Model"
      ]
    },
    {
      "cell_type": "code",
      "metadata": {
        "id": "eAqQrGDnvJkR"
      },
      "source": [
        "\"\"\"Ramdom Forest\"\"\"\n",
        "from sklearn.ensemble import RandomForestRegressor\n",
        "model5 = RandomForestRegressor(n_estimators = 100, random_state = 0)"
      ],
      "execution_count": null,
      "outputs": []
    },
    {
      "cell_type": "code",
      "metadata": {
        "id": "PYLq847z9638"
      },
      "source": [
        "x = df.iloc[:,1:]\n",
        "y = df.iloc[:,0]"
      ],
      "execution_count": null,
      "outputs": []
    },
    {
      "cell_type": "code",
      "metadata": {
        "id": "4sRslbhE-PWA",
        "colab": {
          "base_uri": "https://localhost:8080/"
        },
        "outputId": "7328c9fe-77b4-4801-bcb9-f55db57fe5f3"
      },
      "source": [
        "print(x)\n",
        "print(x.shape)"
      ],
      "execution_count": null,
      "outputs": [
        {
          "output_type": "stream",
          "name": "stdout",
          "text": [
            "        price  discount     visits  ...  precipitation  eco_index  oil_price\n",
            "0    3.698196  0.376167  32.877810  ...       1.006842  -4.623676   3.116639\n",
            "1    3.293287 -0.038368  29.184546  ...       1.485414   5.327224   1.939368\n",
            "2    3.061439  0.150960  36.275271  ...       0.269376   0.154045   2.405483\n",
            "3    2.790668 -0.240317  20.807179  ...      -0.806859  -0.139051   2.661227\n",
            "4    4.622580 -0.395553   8.909365  ...       2.045073  -6.555098   3.738934\n",
            "..        ...       ...        ...  ...            ...        ...        ...\n",
            "151  2.857320 -0.018739  32.431738  ...       0.913068  11.321718   3.381665\n",
            "152  4.476717  0.024785  40.849959  ...       1.593006  -3.870688   2.938434\n",
            "153  2.094760  0.532553   6.659009  ...       1.897847  -2.022110   2.900825\n",
            "154  3.934556  0.387644  15.705885  ...       3.305649  -3.818430   3.111997\n",
            "155  2.291726  0.659797  26.448967  ...       2.061417  -2.535786   3.399452\n",
            "\n",
            "[156 rows x 10 columns]\n",
            "(156, 10)\n"
          ]
        }
      ]
    },
    {
      "cell_type": "code",
      "metadata": {
        "id": "crysOm8d-Rfd",
        "colab": {
          "base_uri": "https://localhost:8080/"
        },
        "outputId": "79de8f2f-1178-46ed-d25d-9b0d9dae406c"
      },
      "source": [
        "print(y)\n",
        "print(y.shape)"
      ],
      "execution_count": null,
      "outputs": [
        {
          "output_type": "stream",
          "name": "stdout",
          "text": [
            "0      31.290381\n",
            "1      31.218834\n",
            "2      43.535013\n",
            "3      52.782984\n",
            "4      29.806685\n",
            "         ...    \n",
            "151    41.008593\n",
            "152    41.766279\n",
            "153    37.694025\n",
            "154    51.386237\n",
            "155    41.367251\n",
            "Name: sales, Length: 156, dtype: float64\n",
            "(156,)\n"
          ]
        }
      ]
    },
    {
      "cell_type": "code",
      "metadata": {
        "id": "QPT_mRFL-ZXR"
      },
      "source": [
        "from sklearn.preprocessing import MinMaxScaler\n",
        "scaler = MinMaxScaler()\n",
        "x_transformed = scaler.fit_transform(x)"
      ],
      "execution_count": null,
      "outputs": []
    },
    {
      "cell_type": "code",
      "metadata": {
        "id": "junHKrjT_Qcs",
        "colab": {
          "base_uri": "https://localhost:8080/"
        },
        "outputId": "fdf2ef68-7276-47cb-f06f-a8d59237e577"
      },
      "source": [
        "print(x_transformed)"
      ],
      "execution_count": null,
      "outputs": [
        {
          "output_type": "stream",
          "name": "stdout",
          "text": [
            "[[0.52749639 0.49508109 0.52950463 ... 0.58989642 0.20331814 0.61854625]\n",
            " [0.48042678 0.31530189 0.47968225 ... 0.65260025 0.56113488 0.20423156]\n",
            " [0.45347499 0.39741129 0.5753366  ... 0.49327158 0.37511652 0.3682705 ]\n",
            " ...\n",
            " [0.34110117 0.56290403 0.17581125 ... 0.70663835 0.29686585 0.54259518]\n",
            " [0.55497253 0.50005845 0.29785421 ... 0.8910926  0.23227333 0.61691261]\n",
            " [0.36399798 0.61808794 0.4427791  ... 0.72806976 0.27839494 0.71807598]]\n"
          ]
        }
      ]
    },
    {
      "cell_type": "code",
      "metadata": {
        "id": "mlkHiuB4_YwW",
        "colab": {
          "base_uri": "https://localhost:8080/"
        },
        "outputId": "f7d018a8-7af3-4771-fee1-9161d145023b"
      },
      "source": [
        "model5.fit(x_transformed,y)"
      ],
      "execution_count": null,
      "outputs": [
        {
          "output_type": "execute_result",
          "data": {
            "text/plain": [
              "RandomForestRegressor(bootstrap=True, ccp_alpha=0.0, criterion='mse',\n",
              "                      max_depth=None, max_features='auto', max_leaf_nodes=None,\n",
              "                      max_samples=None, min_impurity_decrease=0.0,\n",
              "                      min_impurity_split=None, min_samples_leaf=1,\n",
              "                      min_samples_split=2, min_weight_fraction_leaf=0.0,\n",
              "                      n_estimators=100, n_jobs=None, oob_score=False,\n",
              "                      random_state=0, verbose=0, warm_start=False)"
            ]
          },
          "metadata": {},
          "execution_count": 2517
        }
      ]
    },
    {
      "cell_type": "code",
      "metadata": {
        "id": "iIWyEiaK_woQ",
        "colab": {
          "base_uri": "https://localhost:8080/"
        },
        "outputId": "6a6dad57-ff2b-4728-df28-e92c3685e53e"
      },
      "source": [
        "x_transformed[45,:]"
      ],
      "execution_count": null,
      "outputs": [
        {
          "output_type": "execute_result",
          "data": {
            "text/plain": [
              "array([0.33790411, 0.5004486 , 0.40016299, 0.56782389, 0.38505786,\n",
              "       0.03061818, 0.59922511, 0.63367603, 0.51204996, 0.58022491])"
            ]
          },
          "metadata": {},
          "execution_count": 2518
        }
      ]
    },
    {
      "cell_type": "code",
      "metadata": {
        "id": "0HUhQnYiAYMf",
        "colab": {
          "base_uri": "https://localhost:8080/"
        },
        "outputId": "0e9dec64-a407-481d-d399-6723fbc706e8"
      },
      "source": [
        "y[45]"
      ],
      "execution_count": null,
      "outputs": [
        {
          "output_type": "execute_result",
          "data": {
            "text/plain": [
              "31.638976804138963"
            ]
          },
          "metadata": {},
          "execution_count": 2519
        }
      ]
    },
    {
      "cell_type": "code",
      "metadata": {
        "id": "44xnQoEl_kRU",
        "colab": {
          "base_uri": "https://localhost:8080/"
        },
        "outputId": "9e678493-e75a-46e1-8815-1892d7dcb402"
      },
      "source": [
        "model5.predict([[0.66840646, 0.45086737, 0.6875    , 0.37878788, 0.22043896,\n",
        "       0.24332287, 0.27099355, 0.60846076, 0.66549433, 0.5275641 ]])"
      ],
      "execution_count": null,
      "outputs": [
        {
          "output_type": "execute_result",
          "data": {
            "text/plain": [
              "array([46.32748807])"
            ]
          },
          "metadata": {},
          "execution_count": 2520
        }
      ]
    },
    {
      "cell_type": "code",
      "metadata": {
        "id": "mLe902xUAJw5",
        "colab": {
          "base_uri": "https://localhost:8080/"
        },
        "outputId": "46f52969-b429-4e92-d8eb-c6f050d30ef8"
      },
      "source": [
        "import math\n",
        "MSE = np.square(np.subtract(y,model5.predict(x))).mean() \n",
        "RMSE = math.sqrt(MSE)\n",
        "print(\"Root Mean Square Error:\\n\")\n",
        "print(RMSE)"
      ],
      "execution_count": null,
      "outputs": [
        {
          "output_type": "stream",
          "name": "stdout",
          "text": [
            "Root Mean Square Error:\n",
            "\n",
            "15.070196397283983\n"
          ]
        }
      ]
    },
    {
      "cell_type": "markdown",
      "metadata": {
        "id": "B48qCF02CEJI"
      },
      "source": [
        "Deep Neural Network"
      ]
    },
    {
      "cell_type": "code",
      "metadata": {
        "id": "zLo4EUdzBp_1"
      },
      "source": [
        "from sklearn.model_selection import train_test_split\n",
        "xtrain,xtest,ytrain,ytest = train_test_split(x_transformed,y,test_size = 0.15)"
      ],
      "execution_count": null,
      "outputs": []
    },
    {
      "cell_type": "code",
      "metadata": {
        "id": "9UQc4b3IC490",
        "colab": {
          "base_uri": "https://localhost:8080/"
        },
        "outputId": "4a582b8d-4e92-4fa3-fb2e-8d02dffe4166"
      },
      "source": [
        "print(xtrain.shape)\n",
        "print(xtest.shape)"
      ],
      "execution_count": null,
      "outputs": [
        {
          "output_type": "stream",
          "name": "stdout",
          "text": [
            "(132, 10)\n",
            "(24, 10)\n"
          ]
        }
      ]
    },
    {
      "cell_type": "code",
      "metadata": {
        "id": "ewSaFaWfDDAw",
        "colab": {
          "base_uri": "https://localhost:8080/"
        },
        "outputId": "39722088-4f79-40bf-ad84-a19dde48bb2f"
      },
      "source": [
        "print(ytrain.shape)\n",
        "print(ytest.shape)"
      ],
      "execution_count": null,
      "outputs": [
        {
          "output_type": "stream",
          "name": "stdout",
          "text": [
            "(132,)\n",
            "(24,)\n"
          ]
        }
      ]
    },
    {
      "cell_type": "code",
      "metadata": {
        "id": "EX-4BNozDMZD"
      },
      "source": [
        "import tensorflow.keras as tf"
      ],
      "execution_count": null,
      "outputs": []
    },
    {
      "cell_type": "code",
      "metadata": {
        "id": "_Wm16L3VDSJ7",
        "colab": {
          "base_uri": "https://localhost:8080/"
        },
        "outputId": "af42c230-361d-4e23-bff9-f44b4f69b628"
      },
      "source": [
        "model6 = tf.models.Sequential()\n",
        "model6.add(tf.layers.Dense(16,input_shape = (10,)))\n",
        "model6.add(tf.layers.Dense(8))\n",
        "model6.add(tf.layers.Dense(1,activation='linear'))\n",
        "model6.summary()"
      ],
      "execution_count": null,
      "outputs": [
        {
          "output_type": "stream",
          "name": "stdout",
          "text": [
            "Model: \"sequential_39\"\n",
            "_________________________________________________________________\n",
            "Layer (type)                 Output Shape              Param #   \n",
            "=================================================================\n",
            "dense_117 (Dense)            (None, 16)                176       \n",
            "_________________________________________________________________\n",
            "dense_118 (Dense)            (None, 8)                 136       \n",
            "_________________________________________________________________\n",
            "dense_119 (Dense)            (None, 1)                 9         \n",
            "=================================================================\n",
            "Total params: 321\n",
            "Trainable params: 321\n",
            "Non-trainable params: 0\n",
            "_________________________________________________________________\n"
          ]
        }
      ]
    },
    {
      "cell_type": "code",
      "metadata": {
        "id": "vAJcUgvtETH6"
      },
      "source": [
        "model6.compile(loss='mse',optimizer='adam',metrics=['mse','mae'])"
      ],
      "execution_count": null,
      "outputs": []
    },
    {
      "cell_type": "code",
      "metadata": {
        "id": "OJlLTQWjEqXx",
        "colab": {
          "base_uri": "https://localhost:8080/"
        },
        "outputId": "2b293c3f-f79e-45f0-bb11-6a4bb6936a95"
      },
      "source": [
        "history = model6.fit(xtrain,ytrain,epochs=200)"
      ],
      "execution_count": null,
      "outputs": [
        {
          "output_type": "stream",
          "name": "stdout",
          "text": [
            "Epoch 1/200\n",
            "5/5 [==============================] - 0s 2ms/step - loss: 2090.3740 - mse: 2090.3740 - mae: 43.3672\n",
            "Epoch 2/200\n",
            "5/5 [==============================] - 0s 2ms/step - loss: 2069.1880 - mse: 2069.1880 - mae: 43.1258\n",
            "Epoch 3/200\n",
            "5/5 [==============================] - 0s 2ms/step - loss: 2048.4485 - mse: 2048.4485 - mae: 42.8819\n",
            "Epoch 4/200\n",
            "5/5 [==============================] - 0s 2ms/step - loss: 2027.6387 - mse: 2027.6387 - mae: 42.6343\n",
            "Epoch 5/200\n",
            "5/5 [==============================] - 0s 2ms/step - loss: 2005.3851 - mse: 2005.3851 - mae: 42.3784\n",
            "Epoch 6/200\n",
            "5/5 [==============================] - 0s 2ms/step - loss: 1982.7832 - mse: 1982.7832 - mae: 42.1119\n",
            "Epoch 7/200\n",
            "5/5 [==============================] - 0s 2ms/step - loss: 1959.3345 - mse: 1959.3345 - mae: 41.8262\n",
            "Epoch 8/200\n",
            "5/5 [==============================] - 0s 2ms/step - loss: 1933.0297 - mse: 1933.0297 - mae: 41.5179\n",
            "Epoch 9/200\n",
            "5/5 [==============================] - 0s 2ms/step - loss: 1906.5503 - mse: 1906.5503 - mae: 41.1875\n",
            "Epoch 10/200\n",
            "5/5 [==============================] - 0s 2ms/step - loss: 1877.0500 - mse: 1877.0500 - mae: 40.8303\n",
            "Epoch 11/200\n",
            "5/5 [==============================] - 0s 2ms/step - loss: 1845.2878 - mse: 1845.2878 - mae: 40.4452\n",
            "Epoch 12/200\n",
            "5/5 [==============================] - 0s 2ms/step - loss: 1811.6259 - mse: 1811.6259 - mae: 40.0233\n",
            "Epoch 13/200\n",
            "5/5 [==============================] - 0s 2ms/step - loss: 1775.3184 - mse: 1775.3184 - mae: 39.5665\n",
            "Epoch 14/200\n",
            "5/5 [==============================] - 0s 2ms/step - loss: 1735.8357 - mse: 1735.8357 - mae: 39.0659\n",
            "Epoch 15/200\n",
            "5/5 [==============================] - 0s 3ms/step - loss: 1694.2484 - mse: 1694.2484 - mae: 38.5253\n",
            "Epoch 16/200\n",
            "5/5 [==============================] - 0s 2ms/step - loss: 1649.0247 - mse: 1649.0247 - mae: 37.9448\n",
            "Epoch 17/200\n",
            "5/5 [==============================] - 0s 2ms/step - loss: 1602.4628 - mse: 1602.4628 - mae: 37.3173\n",
            "Epoch 18/200\n",
            "5/5 [==============================] - 0s 2ms/step - loss: 1551.5281 - mse: 1551.5281 - mae: 36.6319\n",
            "Epoch 19/200\n",
            "5/5 [==============================] - 0s 2ms/step - loss: 1498.2482 - mse: 1498.2482 - mae: 35.8953\n",
            "Epoch 20/200\n",
            "5/5 [==============================] - 0s 2ms/step - loss: 1441.5444 - mse: 1441.5444 - mae: 35.0944\n",
            "Epoch 21/200\n",
            "5/5 [==============================] - 0s 2ms/step - loss: 1381.0233 - mse: 1381.0233 - mae: 34.2206\n",
            "Epoch 22/200\n",
            "5/5 [==============================] - 0s 2ms/step - loss: 1317.7987 - mse: 1317.7987 - mae: 33.2705\n",
            "Epoch 23/200\n",
            "5/5 [==============================] - 0s 5ms/step - loss: 1250.7001 - mse: 1250.7001 - mae: 32.2541\n",
            "Epoch 24/200\n",
            "5/5 [==============================] - 0s 2ms/step - loss: 1182.5458 - mse: 1182.5458 - mae: 31.1878\n",
            "Epoch 25/200\n",
            "5/5 [==============================] - 0s 2ms/step - loss: 1113.8320 - mse: 1113.8320 - mae: 30.0433\n",
            "Epoch 26/200\n",
            "5/5 [==============================] - 0s 2ms/step - loss: 1041.3320 - mse: 1041.3320 - mae: 28.8168\n",
            "Epoch 27/200\n",
            "5/5 [==============================] - 0s 2ms/step - loss: 967.7111 - mse: 967.7111 - mae: 27.5340\n",
            "Epoch 28/200\n",
            "5/5 [==============================] - 0s 3ms/step - loss: 895.0031 - mse: 895.0031 - mae: 26.2244\n",
            "Epoch 29/200\n",
            "5/5 [==============================] - 0s 3ms/step - loss: 825.5479 - mse: 825.5479 - mae: 25.0161\n",
            "Epoch 30/200\n",
            "5/5 [==============================] - 0s 3ms/step - loss: 758.5353 - mse: 758.5353 - mae: 23.7531\n",
            "Epoch 31/200\n",
            "5/5 [==============================] - 0s 3ms/step - loss: 693.8005 - mse: 693.8005 - mae: 22.5008\n",
            "Epoch 32/200\n",
            "5/5 [==============================] - 0s 2ms/step - loss: 629.9116 - mse: 629.9116 - mae: 21.2971\n",
            "Epoch 33/200\n",
            "5/5 [==============================] - 0s 3ms/step - loss: 569.1909 - mse: 569.1909 - mae: 20.0433\n",
            "Epoch 34/200\n",
            "5/5 [==============================] - 0s 2ms/step - loss: 517.6013 - mse: 517.6013 - mae: 18.9462\n",
            "Epoch 35/200\n",
            "5/5 [==============================] - 0s 3ms/step - loss: 468.2977 - mse: 468.2977 - mae: 17.7988\n",
            "Epoch 36/200\n",
            "5/5 [==============================] - 0s 2ms/step - loss: 422.8097 - mse: 422.8097 - mae: 16.7482\n",
            "Epoch 37/200\n",
            "5/5 [==============================] - 0s 2ms/step - loss: 384.3126 - mse: 384.3126 - mae: 15.7417\n",
            "Epoch 38/200\n",
            "5/5 [==============================] - 0s 3ms/step - loss: 349.1141 - mse: 349.1141 - mae: 14.8612\n",
            "Epoch 39/200\n",
            "5/5 [==============================] - 0s 2ms/step - loss: 319.1978 - mse: 319.1978 - mae: 14.0698\n",
            "Epoch 40/200\n",
            "5/5 [==============================] - 0s 2ms/step - loss: 297.1820 - mse: 297.1820 - mae: 13.4741\n",
            "Epoch 41/200\n",
            "5/5 [==============================] - 0s 2ms/step - loss: 273.9850 - mse: 273.9850 - mae: 12.8977\n",
            "Epoch 42/200\n",
            "5/5 [==============================] - 0s 2ms/step - loss: 259.3520 - mse: 259.3520 - mae: 12.5737\n",
            "Epoch 43/200\n",
            "5/5 [==============================] - 0s 2ms/step - loss: 248.2900 - mse: 248.2900 - mae: 12.3885\n",
            "Epoch 44/200\n",
            "5/5 [==============================] - 0s 6ms/step - loss: 241.4529 - mse: 241.4529 - mae: 12.2549\n",
            "Epoch 45/200\n",
            "5/5 [==============================] - 0s 2ms/step - loss: 235.2435 - mse: 235.2435 - mae: 12.1572\n",
            "Epoch 46/200\n",
            "5/5 [==============================] - 0s 2ms/step - loss: 230.9735 - mse: 230.9735 - mae: 12.0763\n",
            "Epoch 47/200\n",
            "5/5 [==============================] - 0s 2ms/step - loss: 228.7172 - mse: 228.7172 - mae: 12.0235\n",
            "Epoch 48/200\n",
            "5/5 [==============================] - 0s 2ms/step - loss: 226.7891 - mse: 226.7891 - mae: 11.9966\n",
            "Epoch 49/200\n",
            "5/5 [==============================] - 0s 2ms/step - loss: 225.3459 - mse: 225.3459 - mae: 11.9705\n",
            "Epoch 50/200\n",
            "5/5 [==============================] - 0s 2ms/step - loss: 225.4292 - mse: 225.4292 - mae: 12.0022\n",
            "Epoch 51/200\n",
            "5/5 [==============================] - 0s 3ms/step - loss: 224.6169 - mse: 224.6169 - mae: 11.9860\n",
            "Epoch 52/200\n",
            "5/5 [==============================] - 0s 2ms/step - loss: 224.6487 - mse: 224.6487 - mae: 11.9929\n",
            "Epoch 53/200\n",
            "5/5 [==============================] - 0s 3ms/step - loss: 224.8167 - mse: 224.8167 - mae: 12.0063\n",
            "Epoch 54/200\n",
            "5/5 [==============================] - 0s 2ms/step - loss: 225.3537 - mse: 225.3537 - mae: 12.0235\n",
            "Epoch 55/200\n",
            "5/5 [==============================] - 0s 2ms/step - loss: 225.1536 - mse: 225.1536 - mae: 12.0255\n",
            "Epoch 56/200\n",
            "5/5 [==============================] - 0s 3ms/step - loss: 225.1335 - mse: 225.1335 - mae: 12.0233\n",
            "Epoch 57/200\n",
            "5/5 [==============================] - 0s 2ms/step - loss: 225.2605 - mse: 225.2605 - mae: 12.0324\n",
            "Epoch 58/200\n",
            "5/5 [==============================] - 0s 2ms/step - loss: 225.5799 - mse: 225.5799 - mae: 12.0449\n",
            "Epoch 59/200\n",
            "5/5 [==============================] - 0s 2ms/step - loss: 226.1008 - mse: 226.1008 - mae: 12.0622\n",
            "Epoch 60/200\n",
            "5/5 [==============================] - 0s 3ms/step - loss: 226.4664 - mse: 226.4664 - mae: 12.0877\n",
            "Epoch 61/200\n",
            "5/5 [==============================] - 0s 3ms/step - loss: 226.3632 - mse: 226.3632 - mae: 12.0821\n",
            "Epoch 62/200\n",
            "5/5 [==============================] - 0s 2ms/step - loss: 225.7341 - mse: 225.7341 - mae: 12.0527\n",
            "Epoch 63/200\n",
            "5/5 [==============================] - 0s 2ms/step - loss: 225.4363 - mse: 225.4363 - mae: 12.0396\n",
            "Epoch 64/200\n",
            "5/5 [==============================] - 0s 3ms/step - loss: 225.0311 - mse: 225.0311 - mae: 12.0245\n",
            "Epoch 65/200\n",
            "5/5 [==============================] - 0s 2ms/step - loss: 224.8157 - mse: 224.8157 - mae: 12.0167\n",
            "Epoch 66/200\n",
            "5/5 [==============================] - 0s 2ms/step - loss: 224.7720 - mse: 224.7720 - mae: 12.0168\n",
            "Epoch 67/200\n",
            "5/5 [==============================] - 0s 2ms/step - loss: 224.8542 - mse: 224.8542 - mae: 12.0206\n",
            "Epoch 68/200\n",
            "5/5 [==============================] - 0s 2ms/step - loss: 224.9065 - mse: 224.9065 - mae: 12.0235\n",
            "Epoch 69/200\n",
            "5/5 [==============================] - 0s 2ms/step - loss: 224.8807 - mse: 224.8807 - mae: 12.0229\n",
            "Epoch 70/200\n",
            "5/5 [==============================] - 0s 2ms/step - loss: 224.7330 - mse: 224.7330 - mae: 12.0175\n",
            "Epoch 71/200\n",
            "5/5 [==============================] - 0s 2ms/step - loss: 224.7005 - mse: 224.7005 - mae: 12.0147\n",
            "Epoch 72/200\n",
            "5/5 [==============================] - 0s 2ms/step - loss: 224.3385 - mse: 224.3385 - mae: 11.9964\n",
            "Epoch 73/200\n",
            "5/5 [==============================] - 0s 2ms/step - loss: 224.0291 - mse: 224.0291 - mae: 11.9780\n",
            "Epoch 74/200\n",
            "5/5 [==============================] - 0s 3ms/step - loss: 223.9584 - mse: 223.9584 - mae: 11.9717\n",
            "Epoch 75/200\n",
            "5/5 [==============================] - 0s 2ms/step - loss: 224.0444 - mse: 224.0444 - mae: 11.9733\n",
            "Epoch 76/200\n",
            "5/5 [==============================] - 0s 3ms/step - loss: 223.9380 - mse: 223.9380 - mae: 11.9661\n",
            "Epoch 77/200\n",
            "5/5 [==============================] - 0s 2ms/step - loss: 223.9538 - mse: 223.9538 - mae: 11.9639\n",
            "Epoch 78/200\n",
            "5/5 [==============================] - 0s 2ms/step - loss: 223.9158 - mse: 223.9158 - mae: 11.9604\n",
            "Epoch 79/200\n",
            "5/5 [==============================] - 0s 2ms/step - loss: 224.1749 - mse: 224.1749 - mae: 11.9592\n",
            "Epoch 80/200\n",
            "5/5 [==============================] - 0s 3ms/step - loss: 224.3219 - mse: 224.3219 - mae: 11.9567\n",
            "Epoch 81/200\n",
            "5/5 [==============================] - 0s 3ms/step - loss: 224.0602 - mse: 224.0602 - mae: 11.9532\n",
            "Epoch 82/200\n",
            "5/5 [==============================] - 0s 4ms/step - loss: 224.1207 - mse: 224.1207 - mae: 11.9625\n",
            "Epoch 83/200\n",
            "5/5 [==============================] - 0s 2ms/step - loss: 223.8040 - mse: 223.8040 - mae: 11.9604\n",
            "Epoch 84/200\n",
            "5/5 [==============================] - 0s 2ms/step - loss: 223.7906 - mse: 223.7906 - mae: 11.9607\n",
            "Epoch 85/200\n",
            "5/5 [==============================] - 0s 2ms/step - loss: 223.7431 - mse: 223.7431 - mae: 11.9677\n",
            "Epoch 86/200\n",
            "5/5 [==============================] - 0s 2ms/step - loss: 223.6361 - mse: 223.6361 - mae: 11.9605\n",
            "Epoch 87/200\n",
            "5/5 [==============================] - 0s 2ms/step - loss: 223.7194 - mse: 223.7194 - mae: 11.9600\n",
            "Epoch 88/200\n",
            "5/5 [==============================] - 0s 2ms/step - loss: 223.5100 - mse: 223.5100 - mae: 11.9527\n",
            "Epoch 89/200\n",
            "5/5 [==============================] - 0s 3ms/step - loss: 223.5217 - mse: 223.5217 - mae: 11.9522\n",
            "Epoch 90/200\n",
            "5/5 [==============================] - 0s 2ms/step - loss: 223.5282 - mse: 223.5282 - mae: 11.9535\n",
            "Epoch 91/200\n",
            "5/5 [==============================] - 0s 2ms/step - loss: 223.4379 - mse: 223.4379 - mae: 11.9504\n",
            "Epoch 92/200\n",
            "5/5 [==============================] - 0s 3ms/step - loss: 223.3727 - mse: 223.3727 - mae: 11.9506\n",
            "Epoch 93/200\n",
            "5/5 [==============================] - 0s 2ms/step - loss: 223.2921 - mse: 223.2921 - mae: 11.9492\n",
            "Epoch 94/200\n",
            "5/5 [==============================] - 0s 2ms/step - loss: 223.3044 - mse: 223.3044 - mae: 11.9519\n",
            "Epoch 95/200\n",
            "5/5 [==============================] - 0s 2ms/step - loss: 223.2440 - mse: 223.2440 - mae: 11.9480\n",
            "Epoch 96/200\n",
            "5/5 [==============================] - 0s 4ms/step - loss: 223.3995 - mse: 223.3995 - mae: 11.9479\n",
            "Epoch 97/200\n",
            "5/5 [==============================] - 0s 2ms/step - loss: 223.2593 - mse: 223.2593 - mae: 11.9460\n",
            "Epoch 98/200\n",
            "5/5 [==============================] - 0s 2ms/step - loss: 223.1536 - mse: 223.1536 - mae: 11.9461\n",
            "Epoch 99/200\n",
            "5/5 [==============================] - 0s 2ms/step - loss: 223.1155 - mse: 223.1155 - mae: 11.9438\n",
            "Epoch 100/200\n",
            "5/5 [==============================] - 0s 2ms/step - loss: 223.1327 - mse: 223.1327 - mae: 11.9448\n",
            "Epoch 101/200\n",
            "5/5 [==============================] - 0s 2ms/step - loss: 223.0005 - mse: 223.0005 - mae: 11.9426\n",
            "Epoch 102/200\n",
            "5/5 [==============================] - 0s 2ms/step - loss: 223.0697 - mse: 223.0697 - mae: 11.9469\n",
            "Epoch 103/200\n",
            "5/5 [==============================] - 0s 2ms/step - loss: 222.9835 - mse: 222.9835 - mae: 11.9446\n",
            "Epoch 104/200\n",
            "5/5 [==============================] - 0s 2ms/step - loss: 222.9744 - mse: 222.9744 - mae: 11.9438\n",
            "Epoch 105/200\n",
            "5/5 [==============================] - 0s 2ms/step - loss: 222.9968 - mse: 222.9968 - mae: 11.9554\n",
            "Epoch 106/200\n",
            "5/5 [==============================] - 0s 2ms/step - loss: 223.3085 - mse: 223.3085 - mae: 11.9811\n",
            "Epoch 107/200\n",
            "5/5 [==============================] - 0s 2ms/step - loss: 223.6066 - mse: 223.6066 - mae: 11.9925\n",
            "Epoch 108/200\n",
            "5/5 [==============================] - 0s 2ms/step - loss: 223.5324 - mse: 223.5324 - mae: 11.9918\n",
            "Epoch 109/200\n",
            "5/5 [==============================] - 0s 2ms/step - loss: 223.0131 - mse: 223.0131 - mae: 11.9748\n",
            "Epoch 110/200\n",
            "5/5 [==============================] - 0s 2ms/step - loss: 223.2278 - mse: 223.2278 - mae: 11.9551\n",
            "Epoch 111/200\n",
            "5/5 [==============================] - 0s 3ms/step - loss: 222.6767 - mse: 222.6767 - mae: 11.9328\n",
            "Epoch 112/200\n",
            "5/5 [==============================] - 0s 3ms/step - loss: 222.6124 - mse: 222.6124 - mae: 11.9315\n",
            "Epoch 113/200\n",
            "5/5 [==============================] - 0s 2ms/step - loss: 222.5693 - mse: 222.5693 - mae: 11.9289\n",
            "Epoch 114/200\n",
            "5/5 [==============================] - 0s 2ms/step - loss: 222.5172 - mse: 222.5172 - mae: 11.9272\n",
            "Epoch 115/200\n",
            "5/5 [==============================] - 0s 2ms/step - loss: 222.4598 - mse: 222.4598 - mae: 11.9257\n",
            "Epoch 116/200\n",
            "5/5 [==============================] - 0s 2ms/step - loss: 222.4364 - mse: 222.4364 - mae: 11.9246\n",
            "Epoch 117/200\n",
            "5/5 [==============================] - 0s 3ms/step - loss: 222.4068 - mse: 222.4068 - mae: 11.9250\n",
            "Epoch 118/200\n",
            "5/5 [==============================] - 0s 3ms/step - loss: 222.4077 - mse: 222.4077 - mae: 11.9216\n",
            "Epoch 119/200\n",
            "5/5 [==============================] - 0s 2ms/step - loss: 222.3784 - mse: 222.3784 - mae: 11.9212\n",
            "Epoch 120/200\n",
            "5/5 [==============================] - 0s 3ms/step - loss: 222.3502 - mse: 222.3502 - mae: 11.9197\n",
            "Epoch 121/200\n",
            "5/5 [==============================] - 0s 2ms/step - loss: 222.3159 - mse: 222.3159 - mae: 11.9207\n",
            "Epoch 122/200\n",
            "5/5 [==============================] - 0s 2ms/step - loss: 222.6738 - mse: 222.6738 - mae: 11.9345\n",
            "Epoch 123/200\n",
            "5/5 [==============================] - 0s 3ms/step - loss: 222.2434 - mse: 222.2434 - mae: 11.9322\n",
            "Epoch 124/200\n",
            "5/5 [==============================] - 0s 2ms/step - loss: 222.2252 - mse: 222.2252 - mae: 11.9317\n",
            "Epoch 125/200\n",
            "5/5 [==============================] - 0s 2ms/step - loss: 222.0674 - mse: 222.0674 - mae: 11.9256\n",
            "Epoch 126/200\n",
            "5/5 [==============================] - 0s 2ms/step - loss: 222.0011 - mse: 222.0011 - mae: 11.9200\n",
            "Epoch 127/200\n",
            "5/5 [==============================] - 0s 2ms/step - loss: 221.9985 - mse: 221.9985 - mae: 11.9127\n",
            "Epoch 128/200\n",
            "5/5 [==============================] - 0s 3ms/step - loss: 221.8254 - mse: 221.8254 - mae: 11.9075\n",
            "Epoch 129/200\n",
            "5/5 [==============================] - 0s 2ms/step - loss: 222.0889 - mse: 222.0889 - mae: 11.9061\n",
            "Epoch 130/200\n",
            "5/5 [==============================] - 0s 2ms/step - loss: 222.0856 - mse: 222.0856 - mae: 11.9077\n",
            "Epoch 131/200\n",
            "5/5 [==============================] - 0s 2ms/step - loss: 222.1353 - mse: 222.1353 - mae: 11.9134\n",
            "Epoch 132/200\n",
            "5/5 [==============================] - 0s 2ms/step - loss: 221.8544 - mse: 221.8544 - mae: 11.9065\n",
            "Epoch 133/200\n",
            "5/5 [==============================] - 0s 3ms/step - loss: 222.1759 - mse: 222.1759 - mae: 11.9123\n",
            "Epoch 134/200\n",
            "5/5 [==============================] - 0s 2ms/step - loss: 222.1464 - mse: 222.1464 - mae: 11.8974\n",
            "Epoch 135/200\n",
            "5/5 [==============================] - 0s 2ms/step - loss: 221.9659 - mse: 221.9659 - mae: 11.8930\n",
            "Epoch 136/200\n",
            "5/5 [==============================] - 0s 3ms/step - loss: 221.9482 - mse: 221.9482 - mae: 11.9058\n",
            "Epoch 137/200\n",
            "5/5 [==============================] - 0s 2ms/step - loss: 221.7898 - mse: 221.7898 - mae: 11.9002\n",
            "Epoch 138/200\n",
            "5/5 [==============================] - 0s 2ms/step - loss: 221.7121 - mse: 221.7121 - mae: 11.9032\n",
            "Epoch 139/200\n",
            "5/5 [==============================] - 0s 3ms/step - loss: 221.4241 - mse: 221.4241 - mae: 11.8931\n",
            "Epoch 140/200\n",
            "5/5 [==============================] - 0s 3ms/step - loss: 221.3761 - mse: 221.3761 - mae: 11.8892\n",
            "Epoch 141/200\n",
            "5/5 [==============================] - 0s 2ms/step - loss: 221.9177 - mse: 221.9177 - mae: 11.8877\n",
            "Epoch 142/200\n",
            "5/5 [==============================] - 0s 2ms/step - loss: 223.0209 - mse: 223.0209 - mae: 11.9080\n",
            "Epoch 143/200\n",
            "5/5 [==============================] - 0s 5ms/step - loss: 223.2255 - mse: 223.2255 - mae: 11.9087\n",
            "Epoch 144/200\n",
            "5/5 [==============================] - 0s 3ms/step - loss: 223.1770 - mse: 223.1770 - mae: 11.9083\n",
            "Epoch 145/200\n",
            "5/5 [==============================] - 0s 3ms/step - loss: 222.5481 - mse: 222.5481 - mae: 11.8972\n",
            "Epoch 146/200\n",
            "5/5 [==============================] - 0s 2ms/step - loss: 222.2431 - mse: 222.2431 - mae: 11.8989\n",
            "Epoch 147/200\n",
            "5/5 [==============================] - 0s 3ms/step - loss: 221.7218 - mse: 221.7218 - mae: 11.8853\n",
            "Epoch 148/200\n",
            "5/5 [==============================] - 0s 2ms/step - loss: 221.6670 - mse: 221.6670 - mae: 11.8885\n",
            "Epoch 149/200\n",
            "5/5 [==============================] - 0s 2ms/step - loss: 222.1399 - mse: 222.1399 - mae: 11.8943\n",
            "Epoch 150/200\n",
            "5/5 [==============================] - 0s 2ms/step - loss: 222.2134 - mse: 222.2134 - mae: 11.8908\n",
            "Epoch 151/200\n",
            "5/5 [==============================] - 0s 2ms/step - loss: 222.4361 - mse: 222.4361 - mae: 11.8934\n",
            "Epoch 152/200\n",
            "5/5 [==============================] - 0s 4ms/step - loss: 222.2219 - mse: 222.2219 - mae: 11.8929\n",
            "Epoch 153/200\n",
            "5/5 [==============================] - 0s 3ms/step - loss: 221.9654 - mse: 221.9654 - mae: 11.8809\n",
            "Epoch 154/200\n",
            "5/5 [==============================] - 0s 3ms/step - loss: 222.0758 - mse: 222.0758 - mae: 11.8888\n",
            "Epoch 155/200\n",
            "5/5 [==============================] - 0s 2ms/step - loss: 221.7887 - mse: 221.7887 - mae: 11.8827\n",
            "Epoch 156/200\n",
            "5/5 [==============================] - 0s 2ms/step - loss: 221.2645 - mse: 221.2645 - mae: 11.8749\n",
            "Epoch 157/200\n",
            "5/5 [==============================] - 0s 2ms/step - loss: 221.0024 - mse: 221.0024 - mae: 11.8692\n",
            "Epoch 158/200\n",
            "5/5 [==============================] - 0s 2ms/step - loss: 220.9926 - mse: 220.9926 - mae: 11.8735\n",
            "Epoch 159/200\n",
            "5/5 [==============================] - 0s 2ms/step - loss: 220.5298 - mse: 220.5298 - mae: 11.8721\n",
            "Epoch 160/200\n",
            "5/5 [==============================] - 0s 3ms/step - loss: 221.0606 - mse: 221.0606 - mae: 11.8983\n",
            "Epoch 161/200\n",
            "5/5 [==============================] - 0s 4ms/step - loss: 220.7552 - mse: 220.7552 - mae: 11.8975\n",
            "Epoch 162/200\n",
            "5/5 [==============================] - 0s 2ms/step - loss: 220.7288 - mse: 220.7288 - mae: 11.8974\n",
            "Epoch 163/200\n",
            "5/5 [==============================] - 0s 3ms/step - loss: 220.6743 - mse: 220.6743 - mae: 11.8981\n",
            "Epoch 164/200\n",
            "5/5 [==============================] - 0s 3ms/step - loss: 220.7950 - mse: 220.7950 - mae: 11.9037\n",
            "Epoch 165/200\n",
            "5/5 [==============================] - 0s 2ms/step - loss: 220.6468 - mse: 220.6468 - mae: 11.8978\n",
            "Epoch 166/200\n",
            "5/5 [==============================] - 0s 3ms/step - loss: 220.7478 - mse: 220.7478 - mae: 11.8988\n",
            "Epoch 167/200\n",
            "5/5 [==============================] - 0s 2ms/step - loss: 220.6639 - mse: 220.6639 - mae: 11.9022\n",
            "Epoch 168/200\n",
            "5/5 [==============================] - 0s 3ms/step - loss: 220.4368 - mse: 220.4368 - mae: 11.8900\n",
            "Epoch 169/200\n",
            "5/5 [==============================] - 0s 3ms/step - loss: 220.4024 - mse: 220.4024 - mae: 11.8703\n",
            "Epoch 170/200\n",
            "5/5 [==============================] - 0s 3ms/step - loss: 220.1953 - mse: 220.1953 - mae: 11.8633\n",
            "Epoch 171/200\n",
            "5/5 [==============================] - 0s 3ms/step - loss: 220.1984 - mse: 220.1984 - mae: 11.8622\n",
            "Epoch 172/200\n",
            "5/5 [==============================] - 0s 3ms/step - loss: 220.1806 - mse: 220.1806 - mae: 11.8627\n",
            "Epoch 173/200\n",
            "5/5 [==============================] - 0s 3ms/step - loss: 220.2276 - mse: 220.2276 - mae: 11.8562\n",
            "Epoch 174/200\n",
            "5/5 [==============================] - 0s 2ms/step - loss: 220.2794 - mse: 220.2794 - mae: 11.8535\n",
            "Epoch 175/200\n",
            "5/5 [==============================] - 0s 2ms/step - loss: 220.2926 - mse: 220.2926 - mae: 11.8527\n",
            "Epoch 176/200\n",
            "5/5 [==============================] - 0s 2ms/step - loss: 220.1668 - mse: 220.1668 - mae: 11.8492\n",
            "Epoch 177/200\n",
            "5/5 [==============================] - 0s 2ms/step - loss: 219.9876 - mse: 219.9876 - mae: 11.8507\n",
            "Epoch 178/200\n",
            "5/5 [==============================] - 0s 3ms/step - loss: 219.8388 - mse: 219.8388 - mae: 11.8482\n",
            "Epoch 179/200\n",
            "5/5 [==============================] - 0s 3ms/step - loss: 220.2658 - mse: 220.2658 - mae: 11.8620\n",
            "Epoch 180/200\n",
            "5/5 [==============================] - 0s 2ms/step - loss: 219.7594 - mse: 219.7594 - mae: 11.8510\n",
            "Epoch 181/200\n",
            "5/5 [==============================] - 0s 2ms/step - loss: 219.8634 - mse: 219.8634 - mae: 11.8436\n",
            "Epoch 182/200\n",
            "5/5 [==============================] - 0s 2ms/step - loss: 220.0773 - mse: 220.0773 - mae: 11.8447\n",
            "Epoch 183/200\n",
            "5/5 [==============================] - 0s 3ms/step - loss: 219.6925 - mse: 219.6925 - mae: 11.8333\n",
            "Epoch 184/200\n",
            "5/5 [==============================] - 0s 4ms/step - loss: 220.0110 - mse: 220.0110 - mae: 11.8532\n",
            "Epoch 185/200\n",
            "5/5 [==============================] - 0s 2ms/step - loss: 219.5979 - mse: 219.5979 - mae: 11.8471\n",
            "Epoch 186/200\n",
            "5/5 [==============================] - 0s 3ms/step - loss: 219.5476 - mse: 219.5476 - mae: 11.8404\n",
            "Epoch 187/200\n",
            "5/5 [==============================] - 0s 2ms/step - loss: 219.7193 - mse: 219.7193 - mae: 11.8346\n",
            "Epoch 188/200\n",
            "5/5 [==============================] - 0s 4ms/step - loss: 219.7240 - mse: 219.7240 - mae: 11.8357\n",
            "Epoch 189/200\n",
            "5/5 [==============================] - 0s 2ms/step - loss: 219.5301 - mse: 219.5301 - mae: 11.8400\n",
            "Epoch 190/200\n",
            "5/5 [==============================] - 0s 2ms/step - loss: 219.4376 - mse: 219.4376 - mae: 11.8348\n",
            "Epoch 191/200\n",
            "5/5 [==============================] - 0s 2ms/step - loss: 219.3192 - mse: 219.3192 - mae: 11.8342\n",
            "Epoch 192/200\n",
            "5/5 [==============================] - 0s 2ms/step - loss: 219.4726 - mse: 219.4726 - mae: 11.8543\n",
            "Epoch 193/200\n",
            "5/5 [==============================] - 0s 3ms/step - loss: 219.3663 - mse: 219.3663 - mae: 11.8454\n",
            "Epoch 194/200\n",
            "5/5 [==============================] - 0s 3ms/step - loss: 219.1348 - mse: 219.1348 - mae: 11.8406\n",
            "Epoch 195/200\n",
            "5/5 [==============================] - 0s 3ms/step - loss: 219.1307 - mse: 219.1307 - mae: 11.8595\n",
            "Epoch 196/200\n",
            "5/5 [==============================] - 0s 2ms/step - loss: 219.4942 - mse: 219.4942 - mae: 11.8702\n",
            "Epoch 197/200\n",
            "5/5 [==============================] - 0s 3ms/step - loss: 219.5464 - mse: 219.5464 - mae: 11.8733\n",
            "Epoch 198/200\n",
            "5/5 [==============================] - 0s 2ms/step - loss: 219.9122 - mse: 219.9122 - mae: 11.8863\n",
            "Epoch 199/200\n",
            "5/5 [==============================] - 0s 2ms/step - loss: 219.6760 - mse: 219.6760 - mae: 11.8858\n",
            "Epoch 200/200\n",
            "5/5 [==============================] - 0s 3ms/step - loss: 219.5332 - mse: 219.5332 - mae: 11.8772\n"
          ]
        }
      ]
    },
    {
      "cell_type": "code",
      "metadata": {
        "id": "mzN2jbJWEzdK"
      },
      "source": [
        "mse = history.history['mse']"
      ],
      "execution_count": null,
      "outputs": []
    },
    {
      "cell_type": "code",
      "metadata": {
        "id": "Ah9njf45FZOl",
        "colab": {
          "base_uri": "https://localhost:8080/",
          "height": 282
        },
        "outputId": "6875f959-3883-4278-fd49-9231a4755b02"
      },
      "source": [
        "import matplotlib.pyplot as plt\n",
        "plt.plot(mse)"
      ],
      "execution_count": null,
      "outputs": [
        {
          "output_type": "execute_result",
          "data": {
            "text/plain": [
              "[<matplotlib.lines.Line2D at 0x7f8ca598b610>]"
            ]
          },
          "metadata": {},
          "execution_count": 2530
        },
        {
          "output_type": "display_data",
          "data": {
            "image/png": "[encoded data removed]",
            "text/plain": [
              "<Figure size 432x288 with 1 Axes>"
            ]
          },
          "metadata": {
            "needs_background": "light"
          }
        }
      ]
    },
    {
      "cell_type": "code",
      "metadata": {
        "id": "TLhWFj-bF-n3",
        "colab": {
          "base_uri": "https://localhost:8080/",
          "height": 282
        },
        "outputId": "43f6b594-ee26-4222-8570-00017f9bea20"
      },
      "source": [
        "mae = history.history['mae']\n",
        "plt.plot(mae)"
      ],
      "execution_count": null,
      "outputs": [
        {
          "output_type": "execute_result",
          "data": {
            "text/plain": [
              "[<matplotlib.lines.Line2D at 0x7f8ca5a96b50>]"
            ]
          },
          "metadata": {},
          "execution_count": 2531
        },
        {
          "output_type": "display_data",
          "data": {
            "image/png": "[encoded data removed]",
            "text/plain": [
              "<Figure size 432x288 with 1 Axes>"
            ]
          },
          "metadata": {
            "needs_background": "light"
          }
        }
      ]
    },
    {
      "cell_type": "code",
      "metadata": {
        "id": "4n5D2qh5Fpgf",
        "colab": {
          "base_uri": "https://localhost:8080/"
        },
        "outputId": "bd703294-87bb-4043-9d06-a1a18c2fdc44"
      },
      "source": [
        "model6.evaluate(xtest,ytest)"
      ],
      "execution_count": null,
      "outputs": [
        {
          "output_type": "stream",
          "name": "stdout",
          "text": [
            "1/1 [==============================] - 0s 94ms/step - loss: 229.7068 - mse: 229.7068 - mae: 13.1811\n"
          ]
        },
        {
          "output_type": "execute_result",
          "data": {
            "text/plain": [
              "[229.7068328857422, 229.7068328857422, 13.181129455566406]"
            ]
          },
          "metadata": {},
          "execution_count": 2532
        }
      ]
    }
  ]
}